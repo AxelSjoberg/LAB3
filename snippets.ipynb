{
 "cells": [
  {
   "cell_type": "markdown",
   "metadata": {},
   "source": [
    "# Code snippets\n",
    "\n",
    "A collection of small code snippets that can be helpful for some parts of the lab."
   ]
  },
  {
   "cell_type": "code",
   "execution_count": 3,
   "metadata": {},
   "outputs": [],
   "source": [
    "import numpy as np\n",
    "import pandas as pd"
   ]
  },
  {
   "cell_type": "markdown",
   "metadata": {
    "collapsed": true
   },
   "source": [
    "## Spark"
   ]
  },
  {
   "cell_type": "code",
   "execution_count": 4,
   "metadata": {},
   "outputs": [],
   "source": [
    "import json\n",
    "from operator import itemgetter"
   ]
  },
  {
   "cell_type": "code",
   "execution_count": 7,
   "metadata": {},
   "outputs": [
    {
     "name": "stdout",
     "output_type": "stream",
     "text": [
      "PythonRDD[12] at RDD at PythonRDD.scala:49\n",
      "{'genres': ['Adventure', 'Animation', 'Children', 'Comedy', 'Fantasy'], 'movieId': 1, 'title': 'Toy Story (1995)'}\n",
      "Toy Story (1995)\n",
      "Children\n"
     ]
    }
   ],
   "source": [
    "# Each line can be transformed into a Python dict using `json.loads`.\n",
    "data = sc.textFile(\"/ix/ml-20m/movies.txt\").map(json.loads)\n",
    "\n",
    "datum = data.take(1)[0] # this takes one line\n",
    "print(datum)\n",
    "print(datum[\"title\"])\n",
    "print(datum[\"genres\"][2])"
   ]
  },
  {
   "cell_type": "code",
   "execution_count": 18,
   "metadata": {},
   "outputs": [
    {
     "name": "stdout",
     "output_type": "stream",
     "text": [
      "[(1, 'Toy Story (1995)'), (2, 'Jumanji (1995)'), (3, 'Grumpier Old Men (1995)'), (4, 'Waiting to Exhale (1995)'), (5, 'Father of the Bride Part II (1995)')]\n"
     ]
    }
   ],
   "source": [
    "# `itemgetter` can be useful to extract certain fields.\n",
    "datum = data.map(itemgetter(\"movieId\", \"title\")).take(5)\n",
    "\n",
    "print(datum)"
   ]
  },
  {
   "cell_type": "markdown",
   "metadata": {},
   "source": [
    "It is easy to append additional data to an RDD using `union`."
   ]
  },
  {
   "cell_type": "code",
   "execution_count": 19,
   "metadata": {},
   "outputs": [],
   "source": [
    "data = sc.textFile(\"/ix/ml-20m/ratings.txt\").map(json.loads) # each line is a dictionary :)\n",
    "\n",
    "# `parallelize` transforms a Python list into an RDD.\n",
    "additional = sc.parallelize([\n",
    "    {\"movieId\": 1, \"userId\": 1, \"timestamp\": 98765, \"rating\": 5.0},\n",
    "    {\"movieId\": 2, \"userId\": 1, \"timestamp\": 98765, \"rating\": 5.0},\n",
    "])\n",
    "\n",
    "# This will simply extend the `data` RDD with the `additional` RDD.\n",
    "combined = data.union(additional)"
   ]
  },
  {
   "cell_type": "markdown",
   "metadata": {},
   "source": [
    "The method `join` can be used to \"merge\" two RDDs based on the key."
   ]
  },
  {
   "cell_type": "code",
   "execution_count": 6,
   "metadata": {},
   "outputs": [
    {
     "name": "stdout",
     "output_type": "stream",
     "text": [
      "('user2', 'movie4') (4, 4.17)\n",
      "('user1', 'movie7') (3, 2.75)\n"
     ]
    }
   ],
   "source": [
    "ratings1 = sc.parallelize([\n",
    "        ((\"user1\", \"movie7\"), 3),\n",
    "        ((\"user2\", \"movie4\"), 4),\n",
    "    ])\n",
    "ratings2 = sc.parallelize([\n",
    "        ((\"user1\", \"movie7\"), 2.75),\n",
    "        ((\"user2\", \"movie4\"), 4.17),\n",
    "    ])\n",
    "\n",
    "joined = ratings1.join(ratings2).collect()\n",
    "\n",
    "for key, val in joined:\n",
    "    print(key, val)"
   ]
  },
  {
   "cell_type": "markdown",
   "metadata": {},
   "source": [
    "## Visualization\n",
    "\n",
    "Matplotlib can be used for simple static plots."
   ]
  },
  {
   "cell_type": "code",
   "execution_count": 20,
   "metadata": {},
   "outputs": [],
   "source": [
    "import matplotlib.pyplot as plt\n",
    "%matplotlib inline\n",
    "plt.style.use(\"ggplot\")"
   ]
  },
  {
   "cell_type": "code",
   "execution_count": 21,
   "metadata": {},
   "outputs": [
    {
     "data": {
      "text/plain": [
       "Text(0.5, 1.0, 'Sorted')"
      ]
     },
     "execution_count": 21,
     "metadata": {},
     "output_type": "execute_result"
    },
    {
     "data": {
      "image/png": "[encoded data removed]",
      "text/plain": [
       "<Figure size 864x216 with 2 Axes>"
      ]
     },
     "metadata": {
      "needs_background": "light"
     },
     "output_type": "display_data"
    }
   ],
   "source": [
    "ys1 = np.random.randn(100)\n",
    "ys2 = np.sort(ys1)\n",
    "\n",
    "fig, (ax1, ax2) = plt.subplots(ncols=2, figsize=(12, 3), sharey=True)\n",
    "ax1.plot(ys1)\n",
    "ax1.set_title(\"Unsorted\")\n",
    "ax2.plot(ys2)\n",
    "ax2.set_title(\"Sorted\")"
   ]
  },
  {
   "cell_type": "markdown",
   "metadata": {},
   "source": [
    "Bokeh is another library that can be used for interactive plots."
   ]
  },
  {
   "cell_type": "code",
   "execution_count": 9,
   "metadata": {},
   "outputs": [
    {
     "data": {
      "text/html": [
       "\n",
       "    <div class=\"bk-root\">\n",
       "        <a href=\"http://bokeh.pydata.org\" target=\"_blank\" class=\"bk-logo bk-logo-small bk-logo-notebook\"></a>\n",
       "        <span id=\"e5f6558a-aa1d-41d0-ac4b-66ff3a16918a\">Loading BokehJS ...</span>\n",
       "    </div>"
      ]
     },
     "metadata": {},
     "output_type": "display_data"
    },
    {
     "data": {
      "application/javascript": [
       "\n",
       "(function(global) {\n",
       "  function now() {\n",
       "    return new Date();\n",
       "  }\n",
       "\n",
       "  var force = \"1\";\n",
       "\n",
       "  if (typeof (window._bokeh_onload_callbacks) === \"undefined\" || force !== \"\") {\n",
       "    window._bokeh_onload_callbacks = [];\n",
       "    window._bokeh_is_loading = undefined;\n",
       "  }\n",
       "\n",
       "\n",
       "  \n",
       "  if (typeof (window._bokeh_timeout) === \"undefined\" || force !== \"\") {\n",
       "    window._bokeh_timeout = Date.now() + 5000;\n",
       "    window._bokeh_failed_load = false;\n",
       "  }\n",
       "\n",
       "  var NB_LOAD_WARNING = {'data': {'text/html':\n",
       "     \"<div style='background-color: #fdd'>\\n\"+\n",
       "     \"<p>\\n\"+\n",
       "     \"BokehJS does not appear to have successfully loaded. If loading BokehJS from CDN, this \\n\"+\n",
       "     \"may be due to a slow or bad network connection. Possible fixes:\\n\"+\n",
       "     \"</p>\\n\"+\n",
       "     \"<ul>\\n\"+\n",
       "     \"<li>re-rerun `output_notebook()` to attempt to load from CDN again, or</li>\\n\"+\n",
       "     \"<li>use INLINE resources instead, as so:</li>\\n\"+\n",
       "     \"</ul>\\n\"+\n",
       "     \"<code>\\n\"+\n",
       "     \"from bokeh.resources import INLINE\\n\"+\n",
       "     \"output_notebook(resources=INLINE)\\n\"+\n",
       "     \"</code>\\n\"+\n",
       "     \"</div>\"}};\n",
       "\n",
       "  function display_loaded() {\n",
       "    if (window.Bokeh !== undefined) {\n",
       "      Bokeh.$(\"#e5f6558a-aa1d-41d0-ac4b-66ff3a16918a\").text(\"BokehJS successfully loaded.\");\n",
       "    } else if (Date.now() < window._bokeh_timeout) {\n",
       "      setTimeout(display_loaded, 100)\n",
       "    }\n",
       "  }\n",
       "\n",
       "  function run_callbacks() {\n",
       "    window._bokeh_onload_callbacks.forEach(function(callback) { callback() });\n",
       "    delete window._bokeh_onload_callbacks\n",
       "    console.info(\"Bokeh: all callbacks have finished\");\n",
       "  }\n",
       "\n",
       "  function load_libs(js_urls, callback) {\n",
       "    window._bokeh_onload_callbacks.push(callback);\n",
       "    if (window._bokeh_is_loading > 0) {\n",
       "      console.log(\"Bokeh: BokehJS is being loaded, scheduling callback at\", now());\n",
       "      return null;\n",
       "    }\n",
       "    if (js_urls == null || js_urls.length === 0) {\n",
       "      run_callbacks();\n",
       "      return null;\n",
       "    }\n",
       "    console.log(\"Bokeh: BokehJS not loaded, scheduling load and callback at\", now());\n",
       "    window._bokeh_is_loading = js_urls.length;\n",
       "    for (var i = 0; i < js_urls.length; i++) {\n",
       "      var url = js_urls[i];\n",
       "      var s = document.createElement('script');\n",
       "      s.src = url;\n",
       "      s.async = false;\n",
       "      s.onreadystatechange = s.onload = function() {\n",
       "        window._bokeh_is_loading--;\n",
       "        if (window._bokeh_is_loading === 0) {\n",
       "          console.log(\"Bokeh: all BokehJS libraries loaded\");\n",
       "          run_callbacks()\n",
       "        }\n",
       "      };\n",
       "      s.onerror = function() {\n",
       "        console.warn(\"failed to load library \" + url);\n",
       "      };\n",
       "      console.log(\"Bokeh: injecting script tag for BokehJS library: \", url);\n",
       "      document.getElementsByTagName(\"head\")[0].appendChild(s);\n",
       "    }\n",
       "  };var element = document.getElementById(\"e5f6558a-aa1d-41d0-ac4b-66ff3a16918a\");\n",
       "  if (element == null) {\n",
       "    console.log(\"Bokeh: ERROR: autoload.js configured with elementid 'e5f6558a-aa1d-41d0-ac4b-66ff3a16918a' but no matching script tag was found. \")\n",
       "    return false;\n",
       "  }\n",
       "\n",
       "  var js_urls = ['https://cdn.pydata.org/bokeh/release/bokeh-0.12.2.min.js', 'https://cdn.pydata.org/bokeh/release/bokeh-widgets-0.12.2.min.js', 'https://cdn.pydata.org/bokeh/release/bokeh-compiler-0.12.2.min.js'];\n",
       "\n",
       "  var inline_js = [\n",
       "    function(Bokeh) {\n",
       "      Bokeh.set_log_level(\"info\");\n",
       "    },\n",
       "    \n",
       "    function(Bokeh) {\n",
       "      \n",
       "      Bokeh.$(\"#e5f6558a-aa1d-41d0-ac4b-66ff3a16918a\").text(\"BokehJS is loading...\");\n",
       "    },\n",
       "    function(Bokeh) {\n",
       "      console.log(\"Bokeh: injecting CSS: https://cdn.pydata.org/bokeh/release/bokeh-0.12.2.min.css\");\n",
       "      Bokeh.embed.inject_css(\"https://cdn.pydata.org/bokeh/release/bokeh-0.12.2.min.css\");\n",
       "      console.log(\"Bokeh: injecting CSS: https://cdn.pydata.org/bokeh/release/bokeh-widgets-0.12.2.min.css\");\n",
       "      Bokeh.embed.inject_css(\"https://cdn.pydata.org/bokeh/release/bokeh-widgets-0.12.2.min.css\");\n",
       "    }\n",
       "  ];\n",
       "\n",
       "  function run_inline_js() {\n",
       "    \n",
       "    if ((window.Bokeh !== undefined) || (force === \"1\")) {\n",
       "      for (var i = 0; i < inline_js.length; i++) {\n",
       "        inline_js[i](window.Bokeh);\n",
       "      }if (force === \"1\") {\n",
       "        display_loaded();\n",
       "      }} else if (Date.now() < window._bokeh_timeout) {\n",
       "      setTimeout(run_inline_js, 100);\n",
       "    } else if (!window._bokeh_failed_load) {\n",
       "      console.log(\"Bokeh: BokehJS failed to load within specified timeout.\");\n",
       "      window._bokeh_failed_load = true;\n",
       "    } else if (!force) {\n",
       "      var cell = $(\"#e5f6558a-aa1d-41d0-ac4b-66ff3a16918a\").parents('.cell').data().cell;\n",
       "      cell.output_area.append_execute_result(NB_LOAD_WARNING)\n",
       "    }\n",
       "\n",
       "  }\n",
       "\n",
       "  if (window._bokeh_is_loading === 0) {\n",
       "    console.log(\"Bokeh: BokehJS loaded, going straight to plotting\");\n",
       "    run_inline_js();\n",
       "  } else {\n",
       "    load_libs(js_urls, function() {\n",
       "      console.log(\"Bokeh: BokehJS plotting callback run at\", now());\n",
       "      run_inline_js();\n",
       "    });\n",
       "  }\n",
       "}(this));"
      ]
     },
     "metadata": {},
     "output_type": "display_data"
    }
   ],
   "source": [
    "from bokeh.io import show, output_notebook\n",
    "from bokeh.plotting import figure, ColumnDataSource\n",
    "from bokeh.models import HoverTool, ResetTool, PanTool, WheelZoomTool, SaveTool\n",
    "output_notebook()"
   ]
  },
  {
   "cell_type": "code",
   "execution_count": 10,
   "metadata": {
    "collapsed": true
   },
   "outputs": [],
   "source": [
    "data = (\n",
    "    (0.7, -0.3, \"car\", 0.1, 0),\n",
    "    (-0.1, -0.5, \"train\", 0.3, 1),\n",
    "    (-0.5, 0.7, \"plane\", 0.6, 2),\n",
    "    (0.2, 0.2, \"bike\", 0.9, 3),\n",
    ")"
   ]
  },
  {
   "cell_type": "code",
   "execution_count": 11,
   "metadata": {},
   "outputs": [
    {
     "data": {
      "text/html": [
       "\n",
       "\n",
       "    <div class=\"bk-root\">\n",
       "        <div class=\"plotdiv\" id=\"828d1dc8-437e-4acb-95f4-ce0bc1d8f311\"></div>\n",
       "    </div>\n",
       "<script type=\"text/javascript\">\n",
       "  \n",
       "  (function(global) {\n",
       "    function now() {\n",
       "      return new Date();\n",
       "    }\n",
       "  \n",
       "    var force = \"\";\n",
       "  \n",
       "    if (typeof (window._bokeh_onload_callbacks) === \"undefined\" || force !== \"\") {\n",
       "      window._bokeh_onload_callbacks = [];\n",
       "      window._bokeh_is_loading = undefined;\n",
       "    }\n",
       "  \n",
       "  \n",
       "    \n",
       "    if (typeof (window._bokeh_timeout) === \"undefined\" || force !== \"\") {\n",
       "      window._bokeh_timeout = Date.now() + 0;\n",
       "      window._bokeh_failed_load = false;\n",
       "    }\n",
       "  \n",
       "    var NB_LOAD_WARNING = {'data': {'text/html':\n",
       "       \"<div style='background-color: #fdd'>\\n\"+\n",
       "       \"<p>\\n\"+\n",
       "       \"BokehJS does not appear to have successfully loaded. If loading BokehJS from CDN, this \\n\"+\n",
       "       \"may be due to a slow or bad network connection. Possible fixes:\\n\"+\n",
       "       \"</p>\\n\"+\n",
       "       \"<ul>\\n\"+\n",
       "       \"<li>re-rerun `output_notebook()` to attempt to load from CDN again, or</li>\\n\"+\n",
       "       \"<li>use INLINE resources instead, as so:</li>\\n\"+\n",
       "       \"</ul>\\n\"+\n",
       "       \"<code>\\n\"+\n",
       "       \"from bokeh.resources import INLINE\\n\"+\n",
       "       \"output_notebook(resources=INLINE)\\n\"+\n",
       "       \"</code>\\n\"+\n",
       "       \"</div>\"}};\n",
       "  \n",
       "    function display_loaded() {\n",
       "      if (window.Bokeh !== undefined) {\n",
       "        Bokeh.$(\"#828d1dc8-437e-4acb-95f4-ce0bc1d8f311\").text(\"BokehJS successfully loaded.\");\n",
       "      } else if (Date.now() < window._bokeh_timeout) {\n",
       "        setTimeout(display_loaded, 100)\n",
       "      }\n",
       "    }if ((window.Jupyter !== undefined) && Jupyter.notebook.kernel) {\n",
       "      comm_manager = Jupyter.notebook.kernel.comm_manager\n",
       "      comm_manager.register_target(\"d668df35-a023-4694-a199-f091d7e84f52\", function () {});\n",
       "    }\n",
       "  \n",
       "    function run_callbacks() {\n",
       "      window._bokeh_onload_callbacks.forEach(function(callback) { callback() });\n",
       "      delete window._bokeh_onload_callbacks\n",
       "      console.info(\"Bokeh: all callbacks have finished\");\n",
       "    }\n",
       "  \n",
       "    function load_libs(js_urls, callback) {\n",
       "      window._bokeh_onload_callbacks.push(callback);\n",
       "      if (window._bokeh_is_loading > 0) {\n",
       "        console.log(\"Bokeh: BokehJS is being loaded, scheduling callback at\", now());\n",
       "        return null;\n",
       "      }\n",
       "      if (js_urls == null || js_urls.length === 0) {\n",
       "        run_callbacks();\n",
       "        return null;\n",
       "      }\n",
       "      console.log(\"Bokeh: BokehJS not loaded, scheduling load and callback at\", now());\n",
       "      window._bokeh_is_loading = js_urls.length;\n",
       "      for (var i = 0; i < js_urls.length; i++) {\n",
       "        var url = js_urls[i];\n",
       "        var s = document.createElement('script');\n",
       "        s.src = url;\n",
       "        s.async = false;\n",
       "        s.onreadystatechange = s.onload = function() {\n",
       "          window._bokeh_is_loading--;\n",
       "          if (window._bokeh_is_loading === 0) {\n",
       "            console.log(\"Bokeh: all BokehJS libraries loaded\");\n",
       "            run_callbacks()\n",
       "          }\n",
       "        };\n",
       "        s.onerror = function() {\n",
       "          console.warn(\"failed to load library \" + url);\n",
       "        };\n",
       "        console.log(\"Bokeh: injecting script tag for BokehJS library: \", url);\n",
       "        document.getElementsByTagName(\"head\")[0].appendChild(s);\n",
       "      }\n",
       "    };var element = document.getElementById(\"828d1dc8-437e-4acb-95f4-ce0bc1d8f311\");\n",
       "    if (element == null) {\n",
       "      console.log(\"Bokeh: ERROR: autoload.js configured with elementid '828d1dc8-437e-4acb-95f4-ce0bc1d8f311' but no matching script tag was found. \")\n",
       "      return false;\n",
       "    }\n",
       "  \n",
       "    var js_urls = [];\n",
       "  \n",
       "    var inline_js = [\n",
       "      function(Bokeh) {\n",
       "        Bokeh.$(function() {\n",
       "            var docs_json = {\"32c068d7-a7bc-4615-a4a2-26f88065bd0e\":{\"roots\":{\"references\":[{\"attributes\":{\"plot\":{\"id\":\"28a8b9c3-1df3-432e-a5a0-c272f7c14a87\",\"subtype\":\"Figure\",\"type\":\"Plot\"},\"ticker\":{\"id\":\"b3115281-f6d7-477f-9ad8-f20079c95b39\",\"type\":\"BasicTicker\"}},\"id\":\"9fc6cd82-18d4-4c5a-af12-0715dabc1582\",\"type\":\"Grid\"},{\"attributes\":{\"callback\":null},\"id\":\"e34fc46a-2f01-496c-80b5-3a4933e3f6f6\",\"type\":\"DataRange1d\"},{\"attributes\":{\"plot\":{\"id\":\"28a8b9c3-1df3-432e-a5a0-c272f7c14a87\",\"subtype\":\"Figure\",\"type\":\"Plot\"}},\"id\":\"f61480dc-ff0e-403c-a2e3-296e47e8beb2\",\"type\":\"WheelZoomTool\"},{\"attributes\":{\"formatter\":{\"id\":\"79db4bf8-0c51-4cf8-be12-aba2c8928122\",\"type\":\"BasicTickFormatter\"},\"plot\":{\"id\":\"28a8b9c3-1df3-432e-a5a0-c272f7c14a87\",\"subtype\":\"Figure\",\"type\":\"Plot\"},\"ticker\":{\"id\":\"05cf7726-235c-46ee-b25b-66ebb5e172d5\",\"type\":\"BasicTicker\"}},\"id\":\"2fe1edce-5a4a-4313-ad97-350e2a05bb6d\",\"type\":\"LinearAxis\"},{\"attributes\":{\"callback\":null},\"id\":\"81f66e71-886a-4933-8040-ef7bc96de101\",\"type\":\"DataRange1d\"},{\"attributes\":{\"callback\":null,\"column_names\":[\"y\",\"color\",\"name\",\"x\"],\"data\":{\"color\":[\"#482475\",\"#355f8d\",\"#22a884\",\"#bddf26\"],\"name\":[\"car\",\"train\",\"plane\",\"bike\"],\"x\":[0.7,-0.1,-0.5,0.2],\"y\":[-0.3,-0.5,0.7,0.2]}},\"id\":\"d87d8ecc-608a-4ac2-b3b1-4c6de27e7c2a\",\"type\":\"ColumnDataSource\"},{\"attributes\":{\"fill_alpha\":{\"value\":0.5},\"fill_color\":{\"field\":\"color\"},\"line_alpha\":{\"value\":0.5},\"line_color\":{\"field\":\"color\"},\"size\":{\"units\":\"screen\",\"value\":20},\"x\":{\"field\":\"x\"},\"y\":{\"field\":\"y\"}},\"id\":\"c5037f78-a47f-4b7e-8843-80394315b0c0\",\"type\":\"Circle\"},{\"attributes\":{},\"id\":\"b3115281-f6d7-477f-9ad8-f20079c95b39\",\"type\":\"BasicTicker\"},{\"attributes\":{\"plot\":null,\"text\":\"Mouse over the dots\"},\"id\":\"f8ca917c-3f58-4b23-a09b-5de44233693b\",\"type\":\"Title\"},{\"attributes\":{\"formatter\":{\"id\":\"56243626-3840-4df9-94bf-1a5442abfb21\",\"type\":\"BasicTickFormatter\"},\"plot\":{\"id\":\"28a8b9c3-1df3-432e-a5a0-c272f7c14a87\",\"subtype\":\"Figure\",\"type\":\"Plot\"},\"ticker\":{\"id\":\"b3115281-f6d7-477f-9ad8-f20079c95b39\",\"type\":\"BasicTicker\"}},\"id\":\"2c569d26-48a0-412b-971f-81ac796668ec\",\"type\":\"LinearAxis\"},{\"attributes\":{\"dimension\":1,\"plot\":{\"id\":\"28a8b9c3-1df3-432e-a5a0-c272f7c14a87\",\"subtype\":\"Figure\",\"type\":\"Plot\"},\"ticker\":{\"id\":\"05cf7726-235c-46ee-b25b-66ebb5e172d5\",\"type\":\"BasicTicker\"}},\"id\":\"cf942530-813e-4bfd-a8c4-3889441c7c4a\",\"type\":\"Grid\"},{\"attributes\":{},\"id\":\"56243626-3840-4df9-94bf-1a5442abfb21\",\"type\":\"BasicTickFormatter\"},{\"attributes\":{\"plot\":{\"id\":\"28a8b9c3-1df3-432e-a5a0-c272f7c14a87\",\"subtype\":\"Figure\",\"type\":\"Plot\"}},\"id\":\"28823270-a5f1-4855-adbb-37be575c34a1\",\"type\":\"ResetTool\"},{\"attributes\":{\"callback\":null,\"plot\":{\"id\":\"28a8b9c3-1df3-432e-a5a0-c272f7c14a87\",\"subtype\":\"Figure\",\"type\":\"Plot\"},\"tooltips\":[[\"Name\",\"@name\"]]},\"id\":\"857ae3c5-282d-47fa-bcd4-e2a9b069b581\",\"type\":\"HoverTool\"},{\"attributes\":{\"plot\":{\"id\":\"28a8b9c3-1df3-432e-a5a0-c272f7c14a87\",\"subtype\":\"Figure\",\"type\":\"Plot\"}},\"id\":\"e56147b9-ca97-41be-8c91-efb17abd7e1b\",\"type\":\"PanTool\"},{\"attributes\":{\"below\":[{\"id\":\"2c569d26-48a0-412b-971f-81ac796668ec\",\"type\":\"LinearAxis\"}],\"left\":[{\"id\":\"2fe1edce-5a4a-4313-ad97-350e2a05bb6d\",\"type\":\"LinearAxis\"}],\"plot_height\":360,\"plot_width\":960,\"renderers\":[{\"id\":\"2c569d26-48a0-412b-971f-81ac796668ec\",\"type\":\"LinearAxis\"},{\"id\":\"9fc6cd82-18d4-4c5a-af12-0715dabc1582\",\"type\":\"Grid\"},{\"id\":\"2fe1edce-5a4a-4313-ad97-350e2a05bb6d\",\"type\":\"LinearAxis\"},{\"id\":\"cf942530-813e-4bfd-a8c4-3889441c7c4a\",\"type\":\"Grid\"},{\"id\":\"7cb1198f-279c-4429-b590-d9f2a4943c9e\",\"type\":\"GlyphRenderer\"}],\"title\":{\"id\":\"f8ca917c-3f58-4b23-a09b-5de44233693b\",\"type\":\"Title\"},\"tool_events\":{\"id\":\"35a03034-cb5e-4ef3-8232-5424ebe135fc\",\"type\":\"ToolEvents\"},\"toolbar\":{\"id\":\"f626f3b9-bc7a-4adc-ba5b-5d03c9147524\",\"type\":\"Toolbar\"},\"x_range\":{\"id\":\"e34fc46a-2f01-496c-80b5-3a4933e3f6f6\",\"type\":\"DataRange1d\"},\"y_range\":{\"id\":\"81f66e71-886a-4933-8040-ef7bc96de101\",\"type\":\"DataRange1d\"}},\"id\":\"28a8b9c3-1df3-432e-a5a0-c272f7c14a87\",\"subtype\":\"Figure\",\"type\":\"Plot\"},{\"attributes\":{},\"id\":\"05cf7726-235c-46ee-b25b-66ebb5e172d5\",\"type\":\"BasicTicker\"},{\"attributes\":{},\"id\":\"35a03034-cb5e-4ef3-8232-5424ebe135fc\",\"type\":\"ToolEvents\"},{\"attributes\":{\"plot\":{\"id\":\"28a8b9c3-1df3-432e-a5a0-c272f7c14a87\",\"subtype\":\"Figure\",\"type\":\"Plot\"}},\"id\":\"a33fbebe-af93-49a0-b3f7-bde414b2579d\",\"type\":\"SaveTool\"},{\"attributes\":{\"fill_alpha\":{\"value\":0.1},\"fill_color\":{\"value\":\"#1f77b4\"},\"line_alpha\":{\"value\":0.1},\"line_color\":{\"value\":\"#1f77b4\"},\"size\":{\"units\":\"screen\",\"value\":20},\"x\":{\"field\":\"x\"},\"y\":{\"field\":\"y\"}},\"id\":\"fdd47747-f29d-4061-88c6-4f6ebb1dcc1c\",\"type\":\"Circle\"},{\"attributes\":{\"data_source\":{\"id\":\"d87d8ecc-608a-4ac2-b3b1-4c6de27e7c2a\",\"type\":\"ColumnDataSource\"},\"glyph\":{\"id\":\"c5037f78-a47f-4b7e-8843-80394315b0c0\",\"type\":\"Circle\"},\"hover_glyph\":null,\"nonselection_glyph\":{\"id\":\"fdd47747-f29d-4061-88c6-4f6ebb1dcc1c\",\"type\":\"Circle\"},\"selection_glyph\":null},\"id\":\"7cb1198f-279c-4429-b590-d9f2a4943c9e\",\"type\":\"GlyphRenderer\"},{\"attributes\":{\"active_drag\":\"auto\",\"active_scroll\":\"auto\",\"active_tap\":\"auto\",\"tools\":[{\"id\":\"857ae3c5-282d-47fa-bcd4-e2a9b069b581\",\"type\":\"HoverTool\"},{\"id\":\"28823270-a5f1-4855-adbb-37be575c34a1\",\"type\":\"ResetTool\"},{\"id\":\"e56147b9-ca97-41be-8c91-efb17abd7e1b\",\"type\":\"PanTool\"},{\"id\":\"f61480dc-ff0e-403c-a2e3-296e47e8beb2\",\"type\":\"WheelZoomTool\"},{\"id\":\"a33fbebe-af93-49a0-b3f7-bde414b2579d\",\"type\":\"SaveTool\"}]},\"id\":\"f626f3b9-bc7a-4adc-ba5b-5d03c9147524\",\"type\":\"Toolbar\"},{\"attributes\":{},\"id\":\"79db4bf8-0c51-4cf8-be12-aba2c8928122\",\"type\":\"BasicTickFormatter\"}],\"root_ids\":[\"28a8b9c3-1df3-432e-a5a0-c272f7c14a87\"]},\"title\":\"Bokeh Application\",\"version\":\"0.12.2\"}};\n",
       "            var render_items = [{\"docid\":\"32c068d7-a7bc-4615-a4a2-26f88065bd0e\",\"elementid\":\"828d1dc8-437e-4acb-95f4-ce0bc1d8f311\",\"modelid\":\"28a8b9c3-1df3-432e-a5a0-c272f7c14a87\",\"notebook_comms_target\":\"d668df35-a023-4694-a199-f091d7e84f52\"}];\n",
       "            \n",
       "            Bokeh.embed.embed_items(docs_json, render_items);\n",
       "        });\n",
       "      },\n",
       "      function(Bokeh) {\n",
       "      }\n",
       "    ];\n",
       "  \n",
       "    function run_inline_js() {\n",
       "      \n",
       "      if ((window.Bokeh !== undefined) || (force === \"1\")) {\n",
       "        for (var i = 0; i < inline_js.length; i++) {\n",
       "          inline_js[i](window.Bokeh);\n",
       "        }if (force === \"1\") {\n",
       "          display_loaded();\n",
       "        }} else if (Date.now() < window._bokeh_timeout) {\n",
       "        setTimeout(run_inline_js, 100);\n",
       "      } else if (!window._bokeh_failed_load) {\n",
       "        console.log(\"Bokeh: BokehJS failed to load within specified timeout.\");\n",
       "        window._bokeh_failed_load = true;\n",
       "      } else if (!force) {\n",
       "        var cell = $(\"#828d1dc8-437e-4acb-95f4-ce0bc1d8f311\").parents('.cell').data().cell;\n",
       "        cell.output_area.append_execute_result(NB_LOAD_WARNING)\n",
       "      }\n",
       "  \n",
       "    }\n",
       "  \n",
       "    if (window._bokeh_is_loading === 0) {\n",
       "      console.log(\"Bokeh: BokehJS loaded, going straight to plotting\");\n",
       "      run_inline_js();\n",
       "    } else {\n",
       "      load_libs(js_urls, function() {\n",
       "        console.log(\"Bokeh: BokehJS plotting callback run at\", now());\n",
       "        run_inline_js();\n",
       "      });\n",
       "    }\n",
       "  }(this));\n",
       "</script>"
      ]
     },
     "metadata": {},
     "output_type": "display_data"
    },
    {
     "data": {
      "text/html": [
       "<p><code>&lt;Bokeh Notebook handle for <strong>In[11]</strong>&gt;</code></p>"
      ],
      "text/plain": [
       "<bokeh.io._CommsHandle at 0x7fc2f0d2e630>"
      ]
     },
     "execution_count": 11,
     "metadata": {},
     "output_type": "execute_result"
    }
   ],
   "source": [
    "# Continuous colors\n",
    "from matplotlib.colors import rgb2hex \n",
    "cmap = plt.get_cmap('viridis')\n",
    "def val2rgb(val):\n",
    "    return rgb2hex(cmap(val)[:3])\n",
    "\n",
    "source = ColumnDataSource(\n",
    "    data={\n",
    "        \"x\": [x[0] for x in data],\n",
    "        \"y\": [x[1] for x in data],\n",
    "        \"name\": [x[2] for x in data],\n",
    "        \"color\": [val2rgb(x[3]) for x in data],\n",
    "    })\n",
    "\n",
    "hover = HoverTool(\n",
    "    tooltips=[\n",
    "        (\"Name\", \"@name\"),\n",
    "    ])\n",
    "tools = [hover, ResetTool(), PanTool(), WheelZoomTool(), SaveTool()]\n",
    "\n",
    "p = figure(plot_width=960, plot_height=360, tools=tools, title=\"Mouse over the dots\")\n",
    "p.circle(\"x\", \"y\", source=source, size=20, color=\"color\", alpha=0.5)\n",
    "show(p, notebook_handle=True)"
   ]
  },
  {
   "cell_type": "code",
   "execution_count": 12,
   "metadata": {},
   "outputs": [
    {
     "data": {
      "text/html": [
       "\n",
       "\n",
       "    <div class=\"bk-root\">\n",
       "        <div class=\"plotdiv\" id=\"fd3cef9e-365a-4f21-b836-aafcf76c84e8\"></div>\n",
       "    </div>\n",
       "<script type=\"text/javascript\">\n",
       "  \n",
       "  (function(global) {\n",
       "    function now() {\n",
       "      return new Date();\n",
       "    }\n",
       "  \n",
       "    var force = \"\";\n",
       "  \n",
       "    if (typeof (window._bokeh_onload_callbacks) === \"undefined\" || force !== \"\") {\n",
       "      window._bokeh_onload_callbacks = [];\n",
       "      window._bokeh_is_loading = undefined;\n",
       "    }\n",
       "  \n",
       "  \n",
       "    \n",
       "    if (typeof (window._bokeh_timeout) === \"undefined\" || force !== \"\") {\n",
       "      window._bokeh_timeout = Date.now() + 0;\n",
       "      window._bokeh_failed_load = false;\n",
       "    }\n",
       "  \n",
       "    var NB_LOAD_WARNING = {'data': {'text/html':\n",
       "       \"<div style='background-color: #fdd'>\\n\"+\n",
       "       \"<p>\\n\"+\n",
       "       \"BokehJS does not appear to have successfully loaded. If loading BokehJS from CDN, this \\n\"+\n",
       "       \"may be due to a slow or bad network connection. Possible fixes:\\n\"+\n",
       "       \"</p>\\n\"+\n",
       "       \"<ul>\\n\"+\n",
       "       \"<li>re-rerun `output_notebook()` to attempt to load from CDN again, or</li>\\n\"+\n",
       "       \"<li>use INLINE resources instead, as so:</li>\\n\"+\n",
       "       \"</ul>\\n\"+\n",
       "       \"<code>\\n\"+\n",
       "       \"from bokeh.resources import INLINE\\n\"+\n",
       "       \"output_notebook(resources=INLINE)\\n\"+\n",
       "       \"</code>\\n\"+\n",
       "       \"</div>\"}};\n",
       "  \n",
       "    function display_loaded() {\n",
       "      if (window.Bokeh !== undefined) {\n",
       "        Bokeh.$(\"#fd3cef9e-365a-4f21-b836-aafcf76c84e8\").text(\"BokehJS successfully loaded.\");\n",
       "      } else if (Date.now() < window._bokeh_timeout) {\n",
       "        setTimeout(display_loaded, 100)\n",
       "      }\n",
       "    }if ((window.Jupyter !== undefined) && Jupyter.notebook.kernel) {\n",
       "      comm_manager = Jupyter.notebook.kernel.comm_manager\n",
       "      comm_manager.register_target(\"4e89d83c-203d-4bb0-8beb-043f1a521947\", function () {});\n",
       "    }\n",
       "  \n",
       "    function run_callbacks() {\n",
       "      window._bokeh_onload_callbacks.forEach(function(callback) { callback() });\n",
       "      delete window._bokeh_onload_callbacks\n",
       "      console.info(\"Bokeh: all callbacks have finished\");\n",
       "    }\n",
       "  \n",
       "    function load_libs(js_urls, callback) {\n",
       "      window._bokeh_onload_callbacks.push(callback);\n",
       "      if (window._bokeh_is_loading > 0) {\n",
       "        console.log(\"Bokeh: BokehJS is being loaded, scheduling callback at\", now());\n",
       "        return null;\n",
       "      }\n",
       "      if (js_urls == null || js_urls.length === 0) {\n",
       "        run_callbacks();\n",
       "        return null;\n",
       "      }\n",
       "      console.log(\"Bokeh: BokehJS not loaded, scheduling load and callback at\", now());\n",
       "      window._bokeh_is_loading = js_urls.length;\n",
       "      for (var i = 0; i < js_urls.length; i++) {\n",
       "        var url = js_urls[i];\n",
       "        var s = document.createElement('script');\n",
       "        s.src = url;\n",
       "        s.async = false;\n",
       "        s.onreadystatechange = s.onload = function() {\n",
       "          window._bokeh_is_loading--;\n",
       "          if (window._bokeh_is_loading === 0) {\n",
       "            console.log(\"Bokeh: all BokehJS libraries loaded\");\n",
       "            run_callbacks()\n",
       "          }\n",
       "        };\n",
       "        s.onerror = function() {\n",
       "          console.warn(\"failed to load library \" + url);\n",
       "        };\n",
       "        console.log(\"Bokeh: injecting script tag for BokehJS library: \", url);\n",
       "        document.getElementsByTagName(\"head\")[0].appendChild(s);\n",
       "      }\n",
       "    };var element = document.getElementById(\"fd3cef9e-365a-4f21-b836-aafcf76c84e8\");\n",
       "    if (element == null) {\n",
       "      console.log(\"Bokeh: ERROR: autoload.js configured with elementid 'fd3cef9e-365a-4f21-b836-aafcf76c84e8' but no matching script tag was found. \")\n",
       "      return false;\n",
       "    }\n",
       "  \n",
       "    var js_urls = [];\n",
       "  \n",
       "    var inline_js = [\n",
       "      function(Bokeh) {\n",
       "        Bokeh.$(function() {\n",
       "            var docs_json = {\"e762bc49-1fe1-4d5d-afd6-64b6094502db\":{\"roots\":{\"references\":[{\"attributes\":{},\"id\":\"1dae1427-5512-4417-94e9-79cae3374266\",\"type\":\"ToolEvents\"},{\"attributes\":{\"formatter\":{\"id\":\"6f1bc143-6f6f-4801-9128-fbf9e3ec3d09\",\"type\":\"BasicTickFormatter\"},\"plot\":{\"id\":\"f0b7cc39-8800-400e-89a8-663f411bf50d\",\"subtype\":\"Figure\",\"type\":\"Plot\"},\"ticker\":{\"id\":\"0c86a9cb-9bff-49ec-ba4e-2bdd4dbce923\",\"type\":\"BasicTicker\"}},\"id\":\"4ae97f29-2dd7-46e9-bd6a-191c0543e91d\",\"type\":\"LinearAxis\"},{\"attributes\":{\"plot\":{\"id\":\"f0b7cc39-8800-400e-89a8-663f411bf50d\",\"subtype\":\"Figure\",\"type\":\"Plot\"}},\"id\":\"edf6c6cc-e08b-4e99-bc04-cb8e1e0fe952\",\"type\":\"ResetTool\"},{\"attributes\":{},\"id\":\"8c9d227c-0638-495e-9ad8-db94ba2c9e78\",\"type\":\"BasicTickFormatter\"},{\"attributes\":{},\"id\":\"42ac96b0-b2c4-4a0d-83ef-20f6df47cb61\",\"type\":\"BasicTicker\"},{\"attributes\":{\"callback\":null},\"id\":\"311d48e9-a0ad-4955-8f6b-8a3f4a0ba186\",\"type\":\"DataRange1d\"},{\"attributes\":{\"active_drag\":\"auto\",\"active_scroll\":\"auto\",\"active_tap\":\"auto\",\"tools\":[{\"id\":\"d58b74a2-fbdc-4cfe-a5dc-e78a0ae49eaf\",\"type\":\"HoverTool\"},{\"id\":\"edf6c6cc-e08b-4e99-bc04-cb8e1e0fe952\",\"type\":\"ResetTool\"},{\"id\":\"a483ffdd-0c6d-4ee3-980a-92a096871eef\",\"type\":\"PanTool\"},{\"id\":\"5fff2b4c-ea31-40de-a87f-7984e2e03038\",\"type\":\"WheelZoomTool\"},{\"id\":\"eeb5c398-5c88-4ed5-8a56-a8e820a02ec9\",\"type\":\"SaveTool\"}]},\"id\":\"713ddf2b-4e4e-4719-bbce-4402a92a9162\",\"type\":\"Toolbar\"},{\"attributes\":{\"fill_alpha\":{\"value\":0.5},\"fill_color\":{\"field\":\"color\"},\"line_alpha\":{\"value\":0.5},\"line_color\":{\"field\":\"color\"},\"size\":{\"units\":\"screen\",\"value\":20},\"x\":{\"field\":\"x\"},\"y\":{\"field\":\"y\"}},\"id\":\"8d9a0b25-297a-4e07-a269-3331da1bfd07\",\"type\":\"Circle\"},{\"attributes\":{\"dimension\":1,\"plot\":{\"id\":\"f0b7cc39-8800-400e-89a8-663f411bf50d\",\"subtype\":\"Figure\",\"type\":\"Plot\"},\"ticker\":{\"id\":\"42ac96b0-b2c4-4a0d-83ef-20f6df47cb61\",\"type\":\"BasicTicker\"}},\"id\":\"5cd63d15-a865-4e4f-af0e-c3b5e46248cc\",\"type\":\"Grid\"},{\"attributes\":{\"plot\":null,\"text\":\"Mouse over the dots\"},\"id\":\"4c23c9f1-3ee2-4a08-94aa-452d0bb9e905\",\"type\":\"Title\"},{\"attributes\":{\"callback\":null},\"id\":\"fb94924e-6888-476b-8e60-ef1d7345d4b2\",\"type\":\"DataRange1d\"},{\"attributes\":{},\"id\":\"0c86a9cb-9bff-49ec-ba4e-2bdd4dbce923\",\"type\":\"BasicTicker\"},{\"attributes\":{\"plot\":{\"id\":\"f0b7cc39-8800-400e-89a8-663f411bf50d\",\"subtype\":\"Figure\",\"type\":\"Plot\"}},\"id\":\"a483ffdd-0c6d-4ee3-980a-92a096871eef\",\"type\":\"PanTool\"},{\"attributes\":{\"below\":[{\"id\":\"4ae97f29-2dd7-46e9-bd6a-191c0543e91d\",\"type\":\"LinearAxis\"}],\"left\":[{\"id\":\"9ba1f4c2-93fc-40f9-92a9-facb8d856f10\",\"type\":\"LinearAxis\"}],\"plot_height\":360,\"plot_width\":960,\"renderers\":[{\"id\":\"4ae97f29-2dd7-46e9-bd6a-191c0543e91d\",\"type\":\"LinearAxis\"},{\"id\":\"4291ea4f-00df-435e-8e52-e72041dff743\",\"type\":\"Grid\"},{\"id\":\"9ba1f4c2-93fc-40f9-92a9-facb8d856f10\",\"type\":\"LinearAxis\"},{\"id\":\"5cd63d15-a865-4e4f-af0e-c3b5e46248cc\",\"type\":\"Grid\"},{\"id\":\"d526b95f-5859-4cca-85b0-f9e39ca89cc7\",\"type\":\"GlyphRenderer\"}],\"title\":{\"id\":\"4c23c9f1-3ee2-4a08-94aa-452d0bb9e905\",\"type\":\"Title\"},\"tool_events\":{\"id\":\"1dae1427-5512-4417-94e9-79cae3374266\",\"type\":\"ToolEvents\"},\"toolbar\":{\"id\":\"713ddf2b-4e4e-4719-bbce-4402a92a9162\",\"type\":\"Toolbar\"},\"x_range\":{\"id\":\"fb94924e-6888-476b-8e60-ef1d7345d4b2\",\"type\":\"DataRange1d\"},\"y_range\":{\"id\":\"311d48e9-a0ad-4955-8f6b-8a3f4a0ba186\",\"type\":\"DataRange1d\"}},\"id\":\"f0b7cc39-8800-400e-89a8-663f411bf50d\",\"subtype\":\"Figure\",\"type\":\"Plot\"},{\"attributes\":{\"data_source\":{\"id\":\"1fa6b3a1-cb35-450e-8f24-7315573ce9fb\",\"type\":\"ColumnDataSource\"},\"glyph\":{\"id\":\"8d9a0b25-297a-4e07-a269-3331da1bfd07\",\"type\":\"Circle\"},\"hover_glyph\":null,\"nonselection_glyph\":{\"id\":\"4e6353fa-3460-4355-9ebf-1225522bd277\",\"type\":\"Circle\"},\"selection_glyph\":null},\"id\":\"d526b95f-5859-4cca-85b0-f9e39ca89cc7\",\"type\":\"GlyphRenderer\"},{\"attributes\":{},\"id\":\"6f1bc143-6f6f-4801-9128-fbf9e3ec3d09\",\"type\":\"BasicTickFormatter\"},{\"attributes\":{\"plot\":{\"id\":\"f0b7cc39-8800-400e-89a8-663f411bf50d\",\"subtype\":\"Figure\",\"type\":\"Plot\"},\"ticker\":{\"id\":\"0c86a9cb-9bff-49ec-ba4e-2bdd4dbce923\",\"type\":\"BasicTicker\"}},\"id\":\"4291ea4f-00df-435e-8e52-e72041dff743\",\"type\":\"Grid\"},{\"attributes\":{\"callback\":null,\"plot\":{\"id\":\"f0b7cc39-8800-400e-89a8-663f411bf50d\",\"subtype\":\"Figure\",\"type\":\"Plot\"},\"tooltips\":[[\"Name\",\"@name\"]]},\"id\":\"d58b74a2-fbdc-4cfe-a5dc-e78a0ae49eaf\",\"type\":\"HoverTool\"},{\"attributes\":{\"formatter\":{\"id\":\"8c9d227c-0638-495e-9ad8-db94ba2c9e78\",\"type\":\"BasicTickFormatter\"},\"plot\":{\"id\":\"f0b7cc39-8800-400e-89a8-663f411bf50d\",\"subtype\":\"Figure\",\"type\":\"Plot\"},\"ticker\":{\"id\":\"42ac96b0-b2c4-4a0d-83ef-20f6df47cb61\",\"type\":\"BasicTicker\"}},\"id\":\"9ba1f4c2-93fc-40f9-92a9-facb8d856f10\",\"type\":\"LinearAxis\"},{\"attributes\":{\"plot\":{\"id\":\"f0b7cc39-8800-400e-89a8-663f411bf50d\",\"subtype\":\"Figure\",\"type\":\"Plot\"}},\"id\":\"5fff2b4c-ea31-40de-a87f-7984e2e03038\",\"type\":\"WheelZoomTool\"},{\"attributes\":{\"plot\":{\"id\":\"f0b7cc39-8800-400e-89a8-663f411bf50d\",\"subtype\":\"Figure\",\"type\":\"Plot\"}},\"id\":\"eeb5c398-5c88-4ed5-8a56-a8e820a02ec9\",\"type\":\"SaveTool\"},{\"attributes\":{\"fill_alpha\":{\"value\":0.1},\"fill_color\":{\"value\":\"#1f77b4\"},\"line_alpha\":{\"value\":0.1},\"line_color\":{\"value\":\"#1f77b4\"},\"size\":{\"units\":\"screen\",\"value\":20},\"x\":{\"field\":\"x\"},\"y\":{\"field\":\"y\"}},\"id\":\"4e6353fa-3460-4355-9ebf-1225522bd277\",\"type\":\"Circle\"},{\"attributes\":{\"callback\":null,\"column_names\":[\"y\",\"color\",\"name\",\"x\"],\"data\":{\"color\":[\"#1b9e77\",\"#d95f02\",\"#7570b3\",\"#e7298a\"],\"name\":[\"car\",\"train\",\"plane\",\"bike\"],\"x\":[0.7,-0.1,-0.5,0.2],\"y\":[-0.3,-0.5,0.7,0.2]}},\"id\":\"1fa6b3a1-cb35-450e-8f24-7315573ce9fb\",\"type\":\"ColumnDataSource\"}],\"root_ids\":[\"f0b7cc39-8800-400e-89a8-663f411bf50d\"]},\"title\":\"Bokeh Application\",\"version\":\"0.12.2\"}};\n",
       "            var render_items = [{\"docid\":\"e762bc49-1fe1-4d5d-afd6-64b6094502db\",\"elementid\":\"fd3cef9e-365a-4f21-b836-aafcf76c84e8\",\"modelid\":\"f0b7cc39-8800-400e-89a8-663f411bf50d\",\"notebook_comms_target\":\"4e89d83c-203d-4bb0-8beb-043f1a521947\"}];\n",
       "            \n",
       "            Bokeh.embed.embed_items(docs_json, render_items);\n",
       "        });\n",
       "      },\n",
       "      function(Bokeh) {\n",
       "      }\n",
       "    ];\n",
       "  \n",
       "    function run_inline_js() {\n",
       "      \n",
       "      if ((window.Bokeh !== undefined) || (force === \"1\")) {\n",
       "        for (var i = 0; i < inline_js.length; i++) {\n",
       "          inline_js[i](window.Bokeh);\n",
       "        }if (force === \"1\") {\n",
       "          display_loaded();\n",
       "        }} else if (Date.now() < window._bokeh_timeout) {\n",
       "        setTimeout(run_inline_js, 100);\n",
       "      } else if (!window._bokeh_failed_load) {\n",
       "        console.log(\"Bokeh: BokehJS failed to load within specified timeout.\");\n",
       "        window._bokeh_failed_load = true;\n",
       "      } else if (!force) {\n",
       "        var cell = $(\"#fd3cef9e-365a-4f21-b836-aafcf76c84e8\").parents('.cell').data().cell;\n",
       "        cell.output_area.append_execute_result(NB_LOAD_WARNING)\n",
       "      }\n",
       "  \n",
       "    }\n",
       "  \n",
       "    if (window._bokeh_is_loading === 0) {\n",
       "      console.log(\"Bokeh: BokehJS loaded, going straight to plotting\");\n",
       "      run_inline_js();\n",
       "    } else {\n",
       "      load_libs(js_urls, function() {\n",
       "        console.log(\"Bokeh: BokehJS plotting callback run at\", now());\n",
       "        run_inline_js();\n",
       "      });\n",
       "    }\n",
       "  }(this));\n",
       "</script>"
      ]
     },
     "metadata": {},
     "output_type": "display_data"
    },
    {
     "data": {
      "text/html": [
       "<p><code>&lt;Bokeh Notebook handle for <strong>In[12]</strong>&gt;</code></p>"
      ],
      "text/plain": [
       "<bokeh.io._CommsHandle at 0x7fc2f0d3e828>"
      ]
     },
     "execution_count": 12,
     "metadata": {},
     "output_type": "execute_result"
    }
   ],
   "source": [
    "# Categorial colors\n",
    "from bokeh.palettes import Dark2_8\n",
    "\n",
    "source = ColumnDataSource(\n",
    "    data={\n",
    "        \"x\": [x[0] for x in data],\n",
    "        \"y\": [x[1] for x in data],\n",
    "        \"name\": [x[2] for x in data],\n",
    "        \"color\": [Dark2_8[x[4]] for x in data],\n",
    "    })\n",
    "\n",
    "hover = HoverTool(\n",
    "    tooltips=[\n",
    "        (\"Name\", \"@name\"),\n",
    "    ])\n",
    "tools = [hover, ResetTool(), PanTool(), WheelZoomTool(), SaveTool()]\n",
    "\n",
    "p = figure(plot_width=960, plot_height=360, tools=tools, title=\"Mouse over the dots\")\n",
    "p.circle(\"x\", \"y\", source=source, size=20, color=\"color\", alpha=0.5)\n",
    "show(p, notebook_handle=True)"
   ]
  },
  {
   "cell_type": "markdown",
   "metadata": {},
   "source": [
    "## Serialization\n",
    "\n",
    "The `pickle` module can be used to read and write Python objects from / to disk."
   ]
  },
  {
   "cell_type": "code",
   "execution_count": 13,
   "metadata": {},
   "outputs": [],
   "source": [
    "import pickle"
   ]
  },
  {
   "cell_type": "code",
   "execution_count": 14,
   "metadata": {},
   "outputs": [
    {
     "name": "stdout",
     "output_type": "stream",
     "text": [
      "(780, 'Independence Day (a.k.a. ID4) (1996)', 0.6)\n",
      "(5349, 'Spider-Man (2002)', 0.89)\n",
      "(2571, 'Matrix, The (1999)', 0.87)\n"
     ]
    }
   ],
   "source": [
    "# Reading an object from disk.\n",
    "with open(\"selected-movies.pickle\", \"rb\") as f:\n",
    "    movies = pickle.load(f, encoding=\"utf-8\")\n",
    "    \n",
    "for movie in movies[:3]:\n",
    "    print(movie)"
   ]
  },
  {
   "cell_type": "code",
   "execution_count": 15,
   "metadata": {
    "collapsed": true
   },
   "outputs": [],
   "source": [
    "# Writing an object to disk.\n",
    "data = {\"a\": np.arange(10), \"b\": np.random.randn(10)}\n",
    "with open(\"sample-file.pickle\", \"wb\") as f:\n",
    "    pickle.dump(data, f)"
   ]
  }
 ],
 "metadata": {
  "anaconda-cloud": {},
  "kernelspec": {
   "display_name": "Python 3",
   "language": "python",
   "name": "python3"
  },
  "language_info": {
   "codemirror_mode": {
    "name": "ipython",
    "version": 3
   },
   "file_extension": ".py",
   "mimetype": "text/x-python",
   "name": "python",
   "nbconvert_exporter": "python",
   "pygments_lexer": "ipython3",
   "version": "3.7.4"
  }
 },
 "nbformat": 4,
 "nbformat_minor": 1
}
