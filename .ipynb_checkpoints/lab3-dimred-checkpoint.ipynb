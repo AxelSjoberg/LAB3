{
 "cells": [
  {
   "cell_type": "markdown",
   "metadata": {},
   "source": [
    "# Lab 3 — dimensionality reduction"
   ]
  },
  {
   "cell_type": "code",
   "execution_count": 15,
   "metadata": {},
   "outputs": [],
   "source": [
    "import json\n",
    "import matplotlib.pyplot as plt\n",
    "import numpy as np\n",
    "from operator import itemgetter\n",
    "from pyspark.mllib.linalg.distributed import CoordinateMatrix\n",
    "import pandas as pd\n",
    "from numpy import linalg as LA\n",
    "\n",
    "%matplotlib inline\n",
    "plt.style.use(\"ggplot\")"
   ]
  },
  {
   "cell_type": "markdown",
   "metadata": {},
   "source": [
    "For some movies we have that it has a vector of scores for each tag in a set of tags. This results in a high-dimensional interpretation of each movie (**\"tag space\"**).\n",
    "\n",
    "* **GOAL:** we want to represent this movies in a lower dimensional space using PCA.\n",
    "\n",
    "Bellow one can see how the data looks like:"
   ]
  },
  {
   "cell_type": "code",
   "execution_count": 16,
   "metadata": {},
   "outputs": [
    {
     "name": "stdout",
     "output_type": "stream",
     "text": [
      "{\"tagId\": 1124, \"tag\": \"writing\"}\r\n",
      "{\"tagId\": 1125, \"tag\": \"wuxia\"}\r\n",
      "{\"tagId\": 1126, \"tag\": \"wwii\"}\r\n",
      "{\"tagId\": 1127, \"tag\": \"zombie\"}\r\n",
      "{\"tagId\": 1128, \"tag\": \"zombies\"}\r\n"
     ]
    }
   ],
   "source": [
    "!hdfs dfs -cat /ix/ml-20m/genome-tags.txt | tail -n 5"
   ]
  },
  {
   "cell_type": "code",
   "execution_count": 17,
   "metadata": {
    "scrolled": true
   },
   "outputs": [
    {
     "name": "stdout",
     "output_type": "stream",
     "text": [
      "{\"relevance\": 0.58775, \"tagId\": 1124, \"movieId\": 131170}\r\n",
      "{\"relevance\": 0.010749999999999982, \"tagId\": 1125, \"movieId\": 131170}\r\n",
      "{\"relevance\": 0.015749999999999986, \"tagId\": 1126, \"movieId\": 131170}\r\n",
      "{\"relevance\": 0.11449999999999999, \"tagId\": 1127, \"movieId\": 131170}\r\n",
      "{\"relevance\": 0.02174999999999999, \"tagId\": 1128, \"movieId\": 131170}\r\n"
     ]
    }
   ],
   "source": [
    "!hdfs dfs -cat /ix/ml-20m/genome-scores.txt | tail -n 5"
   ]
  },
  {
   "cell_type": "code",
   "execution_count": 18,
   "metadata": {},
   "outputs": [],
   "source": [
    "tags = sc.textFile(\"/ix/ml-20m/genome-tags.txt\").map(json.loads)\n",
    "tag_scores = sc.textFile(\"/ix/ml-20m/genome-scores.txt\").map(json.loads)"
   ]
  },
  {
   "cell_type": "markdown",
   "metadata": {},
   "source": [
    "## Exercise 3.1\n",
    "\n",
    "Construct an $M*N$ data matrix, where $M$ is the number of tags and $N$ the number of movies.\n",
    "Do not include movies which do not have any tag.\n",
    "\n",
    "* Plot the variance of each dimension (represented by tags) across all movies.\n",
    "* Plot the eigenvalues of the $M*M$ covariance matrix.\n",
    "* Explain the implications for dimensionality reduction.\n",
    "\n",
    "For example, how many principal directions do you need to capture 2/3 of the variability in\n",
    "the data?\n",
    "\n",
    "-------------------------------------------------------------------------------------------------"
   ]
  },
  {
   "cell_type": "markdown",
   "metadata": {},
   "source": [
    "How can we find the matrix $M*N$? In one file we do have a vector $M*N$ with all the scores for each movie. We should be able to transform that structure into the matrix."
   ]
  },
  {
   "cell_type": "code",
   "execution_count": 19,
   "metadata": {},
   "outputs": [],
   "source": [
    "# As found in the notebook \"Intro_spark_EDA\"\n",
    "M = 1128 # tags\n",
    "N = 10381 # movies with tags"
   ]
  },
  {
   "cell_type": "code",
   "execution_count": 20,
   "metadata": {},
   "outputs": [],
   "source": [
    "matrix = tag_scores.map(itemgetter(\"tagId\", \"movieId\", \"relevance\"))\n",
    "matrix = np.asarray(matrix.collect())"
   ]
  },
  {
   "cell_type": "code",
   "execution_count": 21,
   "metadata": {},
   "outputs": [],
   "source": [
    "matrix = np.asarray(matrix)"
   ]
  },
  {
   "cell_type": "code",
   "execution_count": 22,
   "metadata": {},
   "outputs": [
    {
     "data": {
      "text/plain": [
       "array([[ 2.     ,  1.     ,  0.025  ],\n",
       "       [ 3.     ,  1.     ,  0.05775],\n",
       "       [ 4.     ,  1.     ,  0.09675],\n",
       "       [ 5.     ,  1.     ,  0.14675],\n",
       "       [ 6.     ,  1.     ,  0.217  ],\n",
       "       [ 7.     ,  1.     ,  0.067  ],\n",
       "       [ 8.     ,  1.     ,  0.26275],\n",
       "       [ 9.     ,  1.     ,  0.262  ],\n",
       "       [10.     ,  1.     ,  0.032  ]])"
      ]
     },
     "execution_count": 22,
     "metadata": {},
     "output_type": "execute_result"
    }
   ],
   "source": [
    "matrix[1:10]"
   ]
  },
  {
   "cell_type": "code",
   "execution_count": 23,
   "metadata": {},
   "outputs": [],
   "source": [
    "n = len(matrix)\n",
    "A = np.zeros((1129,10381)) # 1128 tags, 10381 movies\n",
    "m = -1\n",
    "moviesID = np.zeros(10381)\n",
    "\n",
    "for i in range(0,n):\n",
    "    if i % 1128 == 0:\n",
    "        m = m + 1\n",
    "        moviesID[m] = matrix[i][1]\n",
    "    \n",
    "    A[int(matrix[i][0])][m] = matrix[i][2]"
   ]
  },
  {
   "cell_type": "markdown",
   "metadata": {},
   "source": [
    "Now the matrix $A$ has the values we wanted to. **Keep in mind that A rows start at 1 and columns at 0.**"
   ]
  },
  {
   "cell_type": "code",
   "execution_count": 24,
   "metadata": {},
   "outputs": [
    {
     "data": {
      "text/plain": [
       "array([0., 0., 0., ..., 0., 0., 0.])"
      ]
     },
     "execution_count": 24,
     "metadata": {},
     "output_type": "execute_result"
    }
   ],
   "source": [
    "A[0]"
   ]
  },
  {
   "cell_type": "markdown",
   "metadata": {},
   "source": [
    "### a) PLOT VARIANCE OF EACH DIMENSION (TAG) ACROSS ALL MOVIES:\n",
    "\n",
    "$X = [x_1, ..., x_N]$, is our dataset. Each $X_i$ is a movie of dimension $M$, with all the scores for the different tags.\n",
    "\n",
    "We want to know the covariance matrix of a given movie $x$. We know that: \n",
    "$$\\mathrm{Var}(x) = \\mathbb{E}[(x-\\mathbb{E}[x])^2]$$\n",
    "Then, we will center our matrix (all the data points) and then estimate the covariance matrix:\n",
    "1. $X = X - \\overline{X}$\n",
    "2. $\\mathrm{Var}(x) \\approx \\frac{1}{N}X X^T$"
   ]
  },
  {
   "cell_type": "code",
   "execution_count": 25,
   "metadata": {},
   "outputs": [
    {
     "data": {
      "text/plain": [
       "0.08229289099080686"
      ]
     },
     "execution_count": 25,
     "metadata": {},
     "output_type": "execute_result"
    }
   ],
   "source": [
    "X = A\n",
    "X = X - X.mean(1).reshape([1129,1])\n",
    "CX = (1/N)*np.matmul(X,X.transpose())\n",
    "CX.max()"
   ]
  },
  {
   "cell_type": "markdown",
   "metadata": {},
   "source": [
    "Now lets plot the diagonal so that we can see the variance of each dimension:"
   ]
  },
  {
   "cell_type": "code",
   "execution_count": 26,
   "metadata": {},
   "outputs": [],
   "source": [
    "var = CX.diagonal()\n",
    "var = var[1:] # first dimension is not a tag"
   ]
  },
  {
   "cell_type": "code",
   "execution_count": 27,
   "metadata": {},
   "outputs": [
    {
     "data": {
      "text/plain": [
       "[<matplotlib.lines.Line2D at 0x7fd413e54050>]"
      ]
     },
     "execution_count": 27,
     "metadata": {},
     "output_type": "execute_result"
    },
    {
     "data": {
      "image/png": "[encoded data removed]",
      "text/plain": [
       "<Figure size 432x288 with 1 Axes>"
      ]
     },
     "metadata": {},
     "output_type": "display_data"
    }
   ],
   "source": [
    "plt.plot(var)"
   ]
  },
  {
   "cell_type": "markdown",
   "metadata": {},
   "source": [
    "### b) PLOT THE EIGENVALUES OF THE COVARIANCE MATRIX:"
   ]
  },
  {
   "cell_type": "code",
   "execution_count": 28,
   "metadata": {},
   "outputs": [
    {
     "name": "stdout",
     "output_type": "stream",
     "text": [
      "The 50 first eigenvalues in order are: [2.75311225 1.22135338 0.99595557 0.66211171 0.58567336 0.47428225\n",
      " 0.46138018 0.39717058 0.34148576 0.28886558 0.26078631 0.23377844\n",
      " 0.22231846 0.20775102 0.19270798 0.17735516 0.16994217 0.15259553\n",
      " 0.13731592 0.1314468  0.12068555 0.11253595 0.10944098 0.10015725\n",
      " 0.09424449 0.08813647 0.08342501 0.0809259  0.07804268 0.07487721\n",
      " 0.07136622 0.06806269 0.06664784 0.06213607 0.06124358 0.05824564\n",
      " 0.05701822 0.05567969 0.05364679 0.05295612 0.0502332  0.04963194\n",
      " 0.04797178 0.04700254 0.04454992 0.04390238 0.04314391 0.04129978\n",
      " 0.04085629 0.0394823 ]\n"
     ]
    },
    {
     "data": {
      "image/png": "[encoded data removed]",
      "text/plain": [
       "<Figure size 432x288 with 1 Axes>"
      ]
     },
     "metadata": {},
     "output_type": "display_data"
    }
   ],
   "source": [
    "eva, eve = LA.eig(CX[1:,1:])\n",
    "plt.plot(eva)\n",
    "print(\"The 50 first eigenvalues in order are:\", eva[0:50])"
   ]
  },
  {
   "cell_type": "markdown",
   "metadata": {},
   "source": [
    "### c) THE IMPLICATIONS FOR DIMENSIONALITY REDUCTION:"
   ]
  },
  {
   "cell_type": "markdown",
   "metadata": {},
   "source": [
    "The implications are that the variance is mostly accumulated in the directions of the first eigenvalues, which will allow us to draw a low dimensional space in which most of the variance will still be present. Basically we have that:\n",
    "$$X^T X = V D V^T$$\n",
    "Where $V$ are the eigenvectors and $D$ the eigenvalues. Keeping the highest values of the diagonal we will be able to reconstruct most of the covariance matrix."
   ]
  },
  {
   "cell_type": "markdown",
   "metadata": {},
   "source": [
    "## Exercise 3.2: Concept Space\n",
    "\n",
    "For the five first principal directions, find the 10 tags that have the highest and lowest\n",
    "coordinates in that direction.\n",
    "\n",
    "* What concepts would you use to describe these dimensions?\n",
    "\n",
    "Create a Python dict which maps every tag (name) to its coordinates in the 5 first principal\n",
    "directions and save it to disk. This will be used later for the clustering exercise."
   ]
  },
  {
   "cell_type": "code",
   "execution_count": 54,
   "metadata": {},
   "outputs": [
    {
     "name": "stdout",
     "output_type": "stream",
     "text": [
      "[558 562 553 559 848 786 847 555 564 764]\n",
      "0.08746761207830828 0.09003987154774423 0.1091677078462976 0.10916990155014789 0.1163133924942606 0.12309692366740155 0.12600520107939167\n",
      "[528 866 870 846 791 863 841 563 557 560]\n",
      "-0.1544392283398208 -0.14624826901716695 -0.1441834916536445 -0.13480367396771625 -0.13107817015600678 -0.1293528523785876 -0.12403399466460396\n"
     ]
    }
   ],
   "source": [
    "pc1 = eve[0]\n",
    "pc2 = eve[1]\n",
    "pc3 = eve[2]\n",
    "pc4 = eve[3]\n",
    "pc5 = eve[4]\n",
    "\n",
    "print(pc1.argsort()[-10:][::-1]) # take the last three after sorting.\n",
    "print(pc1[764], pc1[564], pc1[555], pc1[847], pc1[786], pc1[848], pc1[559])\n",
    "\n",
    "print(pc1.argsort()[:10][::-1])\n",
    "print(pc1[560], pc1[557], pc1[563], pc1[841], pc1[863], pc1[791], pc1[846])"
   ]
  },
  {
   "cell_type": "markdown",
   "metadata": {},
   "source": [
    "## Exercise 3.3: Movie Visualization\n",
    "\n",
    "Project the movies of selected-movies.pickle on the first two principal directions.\n",
    "\n",
    "* Create an interactive plot that displays the 2D-projection of the movies using bokeh and its hover tool. Color the nodes by their Rotten Tomatoes score.\n",
    "* Based on your knowledge of these movies and information that you can get from the web, explain the coordinates of a few of the movies.\n",
    "* How do the PCA directions correlate with the Rotten Tomatoes score?\n",
    "\n",
    "Try projecting the movies on subsequent principal directions. Does it make sense based on\n",
    "your knowledge of these movies? (Not needed for the hand-in)."
   ]
  }
 ],
 "metadata": {
  "kernelspec": {
   "display_name": "Python 3",
   "language": "python",
   "name": "python3"
  },
  "language_info": {
   "codemirror_mode": {
    "name": "ipython",
    "version": 3
   },
   "file_extension": ".py",
   "mimetype": "text/x-python",
   "name": "python",
   "nbconvert_exporter": "python",
   "pygments_lexer": "ipython3",
   "version": "3.7.4"
  }
 },
 "nbformat": 4,
 "nbformat_minor": 2
}
