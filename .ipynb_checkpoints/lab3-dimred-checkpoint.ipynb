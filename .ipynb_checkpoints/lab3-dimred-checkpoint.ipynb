{
 "cells": [
  {
   "cell_type": "markdown",
   "metadata": {},
   "source": [
    "# Lab 3 — dimensionality reduction"
   ]
  },
  {
   "cell_type": "code",
   "execution_count": 43,
   "metadata": {},
   "outputs": [
    {
     "data": {
      "text/html": [
       "\n",
       "    <div class=\"bk-root\">\n",
       "        <a href=\"https://bokeh.pydata.org\" target=\"_blank\" class=\"bk-logo bk-logo-small bk-logo-notebook\"></a>\n",
       "        <span id=\"1001\">Loading BokehJS ...</span>\n",
       "    </div>"
      ]
     },
     "metadata": {},
     "output_type": "display_data"
    },
    {
     "data": {
      "application/javascript": [
       "\n",
       "(function(root) {\n",
       "  function now() {\n",
       "    return new Date();\n",
       "  }\n",
       "\n",
       "  var force = true;\n",
       "\n",
       "  if (typeof root._bokeh_onload_callbacks === \"undefined\" || force === true) {\n",
       "    root._bokeh_onload_callbacks = [];\n",
       "    root._bokeh_is_loading = undefined;\n",
       "  }\n",
       "\n",
       "  var JS_MIME_TYPE = 'application/javascript';\n",
       "  var HTML_MIME_TYPE = 'text/html';\n",
       "  var EXEC_MIME_TYPE = 'application/vnd.bokehjs_exec.v0+json';\n",
       "  var CLASS_NAME = 'output_bokeh rendered_html';\n",
       "\n",
       "  /**\n",
       "   * Render data to the DOM node\n",
       "   */\n",
       "  function render(props, node) {\n",
       "    var script = document.createElement(\"script\");\n",
       "    node.appendChild(script);\n",
       "  }\n",
       "\n",
       "  /**\n",
       "   * Handle when an output is cleared or removed\n",
       "   */\n",
       "  function handleClearOutput(event, handle) {\n",
       "    var cell = handle.cell;\n",
       "\n",
       "    var id = cell.output_area._bokeh_element_id;\n",
       "    var server_id = cell.output_area._bokeh_server_id;\n",
       "    // Clean up Bokeh references\n",
       "    if (id != null && id in Bokeh.index) {\n",
       "      Bokeh.index[id].model.document.clear();\n",
       "      delete Bokeh.index[id];\n",
       "    }\n",
       "\n",
       "    if (server_id !== undefined) {\n",
       "      // Clean up Bokeh references\n",
       "      var cmd = \"from bokeh.io.state import curstate; print(curstate().uuid_to_server['\" + server_id + \"'].get_sessions()[0].document.roots[0]._id)\";\n",
       "      cell.notebook.kernel.execute(cmd, {\n",
       "        iopub: {\n",
       "          output: function(msg) {\n",
       "            var id = msg.content.text.trim();\n",
       "            if (id in Bokeh.index) {\n",
       "              Bokeh.index[id].model.document.clear();\n",
       "              delete Bokeh.index[id];\n",
       "            }\n",
       "          }\n",
       "        }\n",
       "      });\n",
       "      // Destroy server and session\n",
       "      var cmd = \"import bokeh.io.notebook as ion; ion.destroy_server('\" + server_id + \"')\";\n",
       "      cell.notebook.kernel.execute(cmd);\n",
       "    }\n",
       "  }\n",
       "\n",
       "  /**\n",
       "   * Handle when a new output is added\n",
       "   */\n",
       "  function handleAddOutput(event, handle) {\n",
       "    var output_area = handle.output_area;\n",
       "    var output = handle.output;\n",
       "\n",
       "    // limit handleAddOutput to display_data with EXEC_MIME_TYPE content only\n",
       "    if ((output.output_type != \"display_data\") || (!output.data.hasOwnProperty(EXEC_MIME_TYPE))) {\n",
       "      return\n",
       "    }\n",
       "\n",
       "    var toinsert = output_area.element.find(\".\" + CLASS_NAME.split(' ')[0]);\n",
       "\n",
       "    if (output.metadata[EXEC_MIME_TYPE][\"id\"] !== undefined) {\n",
       "      toinsert[toinsert.length - 1].firstChild.textContent = output.data[JS_MIME_TYPE];\n",
       "      // store reference to embed id on output_area\n",
       "      output_area._bokeh_element_id = output.metadata[EXEC_MIME_TYPE][\"id\"];\n",
       "    }\n",
       "    if (output.metadata[EXEC_MIME_TYPE][\"server_id\"] !== undefined) {\n",
       "      var bk_div = document.createElement(\"div\");\n",
       "      bk_div.innerHTML = output.data[HTML_MIME_TYPE];\n",
       "      var script_attrs = bk_div.children[0].attributes;\n",
       "      for (var i = 0; i < script_attrs.length; i++) {\n",
       "        toinsert[toinsert.length - 1].firstChild.setAttribute(script_attrs[i].name, script_attrs[i].value);\n",
       "      }\n",
       "      // store reference to server id on output_area\n",
       "      output_area._bokeh_server_id = output.metadata[EXEC_MIME_TYPE][\"server_id\"];\n",
       "    }\n",
       "  }\n",
       "\n",
       "  function register_renderer(events, OutputArea) {\n",
       "\n",
       "    function append_mime(data, metadata, element) {\n",
       "      // create a DOM node to render to\n",
       "      var toinsert = this.create_output_subarea(\n",
       "        metadata,\n",
       "        CLASS_NAME,\n",
       "        EXEC_MIME_TYPE\n",
       "      );\n",
       "      this.keyboard_manager.register_events(toinsert);\n",
       "      // Render to node\n",
       "      var props = {data: data, metadata: metadata[EXEC_MIME_TYPE]};\n",
       "      render(props, toinsert[toinsert.length - 1]);\n",
       "      element.append(toinsert);\n",
       "      return toinsert\n",
       "    }\n",
       "\n",
       "    /* Handle when an output is cleared or removed */\n",
       "    events.on('clear_output.CodeCell', handleClearOutput);\n",
       "    events.on('delete.Cell', handleClearOutput);\n",
       "\n",
       "    /* Handle when a new output is added */\n",
       "    events.on('output_added.OutputArea', handleAddOutput);\n",
       "\n",
       "    /**\n",
       "     * Register the mime type and append_mime function with output_area\n",
       "     */\n",
       "    OutputArea.prototype.register_mime_type(EXEC_MIME_TYPE, append_mime, {\n",
       "      /* Is output safe? */\n",
       "      safe: true,\n",
       "      /* Index of renderer in `output_area.display_order` */\n",
       "      index: 0\n",
       "    });\n",
       "  }\n",
       "\n",
       "  // register the mime type if in Jupyter Notebook environment and previously unregistered\n",
       "  if (root.Jupyter !== undefined) {\n",
       "    var events = require('base/js/events');\n",
       "    var OutputArea = require('notebook/js/outputarea').OutputArea;\n",
       "\n",
       "    if (OutputArea.prototype.mime_types().indexOf(EXEC_MIME_TYPE) == -1) {\n",
       "      register_renderer(events, OutputArea);\n",
       "    }\n",
       "  }\n",
       "\n",
       "  \n",
       "  if (typeof (root._bokeh_timeout) === \"undefined\" || force === true) {\n",
       "    root._bokeh_timeout = Date.now() + 5000;\n",
       "    root._bokeh_failed_load = false;\n",
       "  }\n",
       "\n",
       "  var NB_LOAD_WARNING = {'data': {'text/html':\n",
       "     \"<div style='background-color: #fdd'>\\n\"+\n",
       "     \"<p>\\n\"+\n",
       "     \"BokehJS does not appear to have successfully loaded. If loading BokehJS from CDN, this \\n\"+\n",
       "     \"may be due to a slow or bad network connection. Possible fixes:\\n\"+\n",
       "     \"</p>\\n\"+\n",
       "     \"<ul>\\n\"+\n",
       "     \"<li>re-rerun `output_notebook()` to attempt to load from CDN again, or</li>\\n\"+\n",
       "     \"<li>use INLINE resources instead, as so:</li>\\n\"+\n",
       "     \"</ul>\\n\"+\n",
       "     \"<code>\\n\"+\n",
       "     \"from bokeh.resources import INLINE\\n\"+\n",
       "     \"output_notebook(resources=INLINE)\\n\"+\n",
       "     \"</code>\\n\"+\n",
       "     \"</div>\"}};\n",
       "\n",
       "  function display_loaded() {\n",
       "    var el = document.getElementById(\"1001\");\n",
       "    if (el != null) {\n",
       "      el.textContent = \"BokehJS is loading...\";\n",
       "    }\n",
       "    if (root.Bokeh !== undefined) {\n",
       "      if (el != null) {\n",
       "        el.textContent = \"BokehJS \" + root.Bokeh.version + \" successfully loaded.\";\n",
       "      }\n",
       "    } else if (Date.now() < root._bokeh_timeout) {\n",
       "      setTimeout(display_loaded, 100)\n",
       "    }\n",
       "  }\n",
       "\n",
       "\n",
       "  function run_callbacks() {\n",
       "    try {\n",
       "      root._bokeh_onload_callbacks.forEach(function(callback) {\n",
       "        if (callback != null)\n",
       "          callback();\n",
       "      });\n",
       "    } finally {\n",
       "      delete root._bokeh_onload_callbacks\n",
       "    }\n",
       "    console.debug(\"Bokeh: all callbacks have finished\");\n",
       "  }\n",
       "\n",
       "  function load_libs(css_urls, js_urls, callback) {\n",
       "    if (css_urls == null) css_urls = [];\n",
       "    if (js_urls == null) js_urls = [];\n",
       "\n",
       "    root._bokeh_onload_callbacks.push(callback);\n",
       "    if (root._bokeh_is_loading > 0) {\n",
       "      console.debug(\"Bokeh: BokehJS is being loaded, scheduling callback at\", now());\n",
       "      return null;\n",
       "    }\n",
       "    if (js_urls == null || js_urls.length === 0) {\n",
       "      run_callbacks();\n",
       "      return null;\n",
       "    }\n",
       "    console.debug(\"Bokeh: BokehJS not loaded, scheduling load and callback at\", now());\n",
       "    root._bokeh_is_loading = css_urls.length + js_urls.length;\n",
       "\n",
       "    function on_load() {\n",
       "      root._bokeh_is_loading--;\n",
       "      if (root._bokeh_is_loading === 0) {\n",
       "        console.debug(\"Bokeh: all BokehJS libraries/stylesheets loaded\");\n",
       "        run_callbacks()\n",
       "      }\n",
       "    }\n",
       "\n",
       "    function on_error() {\n",
       "      console.error(\"failed to load \" + url);\n",
       "    }\n",
       "\n",
       "    for (var i = 0; i < css_urls.length; i++) {\n",
       "      var url = css_urls[i];\n",
       "      const element = document.createElement(\"link\");\n",
       "      element.onload = on_load;\n",
       "      element.onerror = on_error;\n",
       "      element.rel = \"stylesheet\";\n",
       "      element.type = \"text/css\";\n",
       "      element.href = url;\n",
       "      console.debug(\"Bokeh: injecting link tag for BokehJS stylesheet: \", url);\n",
       "      document.body.appendChild(element);\n",
       "    }\n",
       "\n",
       "    for (var i = 0; i < js_urls.length; i++) {\n",
       "      var url = js_urls[i];\n",
       "      var element = document.createElement('script');\n",
       "      element.onload = on_load;\n",
       "      element.onerror = on_error;\n",
       "      element.async = false;\n",
       "      element.src = url;\n",
       "      console.debug(\"Bokeh: injecting script tag for BokehJS library: \", url);\n",
       "      document.head.appendChild(element);\n",
       "    }\n",
       "  };var element = document.getElementById(\"1001\");\n",
       "  if (element == null) {\n",
       "    console.error(\"Bokeh: ERROR: autoload.js configured with elementid '1001' but no matching script tag was found. \")\n",
       "    return false;\n",
       "  }\n",
       "\n",
       "  function inject_raw_css(css) {\n",
       "    const element = document.createElement(\"style\");\n",
       "    element.appendChild(document.createTextNode(css));\n",
       "    document.body.appendChild(element);\n",
       "  }\n",
       "\n",
       "  var js_urls = [\"https://cdn.pydata.org/bokeh/release/bokeh-1.3.4.min.js\", \"https://cdn.pydata.org/bokeh/release/bokeh-widgets-1.3.4.min.js\", \"https://cdn.pydata.org/bokeh/release/bokeh-tables-1.3.4.min.js\", \"https://cdn.pydata.org/bokeh/release/bokeh-gl-1.3.4.min.js\"];\n",
       "  var css_urls = [];\n",
       "\n",
       "  var inline_js = [\n",
       "    function(Bokeh) {\n",
       "      Bokeh.set_log_level(\"info\");\n",
       "    },\n",
       "    \n",
       "    function(Bokeh) {\n",
       "      \n",
       "    },\n",
       "    function(Bokeh) {} // ensure no trailing comma for IE\n",
       "  ];\n",
       "\n",
       "  function run_inline_js() {\n",
       "    \n",
       "    if ((root.Bokeh !== undefined) || (force === true)) {\n",
       "      for (var i = 0; i < inline_js.length; i++) {\n",
       "        inline_js[i].call(root, root.Bokeh);\n",
       "      }if (force === true) {\n",
       "        display_loaded();\n",
       "      }} else if (Date.now() < root._bokeh_timeout) {\n",
       "      setTimeout(run_inline_js, 100);\n",
       "    } else if (!root._bokeh_failed_load) {\n",
       "      console.log(\"Bokeh: BokehJS failed to load within specified timeout.\");\n",
       "      root._bokeh_failed_load = true;\n",
       "    } else if (force !== true) {\n",
       "      var cell = $(document.getElementById(\"1001\")).parents('.cell').data().cell;\n",
       "      cell.output_area.append_execute_result(NB_LOAD_WARNING)\n",
       "    }\n",
       "\n",
       "  }\n",
       "\n",
       "  if (root._bokeh_is_loading === 0) {\n",
       "    console.debug(\"Bokeh: BokehJS loaded, going straight to plotting\");\n",
       "    run_inline_js();\n",
       "  } else {\n",
       "    load_libs(css_urls, js_urls, function() {\n",
       "      console.debug(\"Bokeh: BokehJS plotting callback run at\", now());\n",
       "      run_inline_js();\n",
       "    });\n",
       "  }\n",
       "}(window));"
      ],
      "application/vnd.bokehjs_load.v0+json": "\n(function(root) {\n  function now() {\n    return new Date();\n  }\n\n  var force = true;\n\n  if (typeof root._bokeh_onload_callbacks === \"undefined\" || force === true) {\n    root._bokeh_onload_callbacks = [];\n    root._bokeh_is_loading = undefined;\n  }\n\n  \n\n  \n  if (typeof (root._bokeh_timeout) === \"undefined\" || force === true) {\n    root._bokeh_timeout = Date.now() + 5000;\n    root._bokeh_failed_load = false;\n  }\n\n  var NB_LOAD_WARNING = {'data': {'text/html':\n     \"<div style='background-color: #fdd'>\\n\"+\n     \"<p>\\n\"+\n     \"BokehJS does not appear to have successfully loaded. If loading BokehJS from CDN, this \\n\"+\n     \"may be due to a slow or bad network connection. Possible fixes:\\n\"+\n     \"</p>\\n\"+\n     \"<ul>\\n\"+\n     \"<li>re-rerun `output_notebook()` to attempt to load from CDN again, or</li>\\n\"+\n     \"<li>use INLINE resources instead, as so:</li>\\n\"+\n     \"</ul>\\n\"+\n     \"<code>\\n\"+\n     \"from bokeh.resources import INLINE\\n\"+\n     \"output_notebook(resources=INLINE)\\n\"+\n     \"</code>\\n\"+\n     \"</div>\"}};\n\n  function display_loaded() {\n    var el = document.getElementById(\"1001\");\n    if (el != null) {\n      el.textContent = \"BokehJS is loading...\";\n    }\n    if (root.Bokeh !== undefined) {\n      if (el != null) {\n        el.textContent = \"BokehJS \" + root.Bokeh.version + \" successfully loaded.\";\n      }\n    } else if (Date.now() < root._bokeh_timeout) {\n      setTimeout(display_loaded, 100)\n    }\n  }\n\n\n  function run_callbacks() {\n    try {\n      root._bokeh_onload_callbacks.forEach(function(callback) {\n        if (callback != null)\n          callback();\n      });\n    } finally {\n      delete root._bokeh_onload_callbacks\n    }\n    console.debug(\"Bokeh: all callbacks have finished\");\n  }\n\n  function load_libs(css_urls, js_urls, callback) {\n    if (css_urls == null) css_urls = [];\n    if (js_urls == null) js_urls = [];\n\n    root._bokeh_onload_callbacks.push(callback);\n    if (root._bokeh_is_loading > 0) {\n      console.debug(\"Bokeh: BokehJS is being loaded, scheduling callback at\", now());\n      return null;\n    }\n    if (js_urls == null || js_urls.length === 0) {\n      run_callbacks();\n      return null;\n    }\n    console.debug(\"Bokeh: BokehJS not loaded, scheduling load and callback at\", now());\n    root._bokeh_is_loading = css_urls.length + js_urls.length;\n\n    function on_load() {\n      root._bokeh_is_loading--;\n      if (root._bokeh_is_loading === 0) {\n        console.debug(\"Bokeh: all BokehJS libraries/stylesheets loaded\");\n        run_callbacks()\n      }\n    }\n\n    function on_error() {\n      console.error(\"failed to load \" + url);\n    }\n\n    for (var i = 0; i < css_urls.length; i++) {\n      var url = css_urls[i];\n      const element = document.createElement(\"link\");\n      element.onload = on_load;\n      element.onerror = on_error;\n      element.rel = \"stylesheet\";\n      element.type = \"text/css\";\n      element.href = url;\n      console.debug(\"Bokeh: injecting link tag for BokehJS stylesheet: \", url);\n      document.body.appendChild(element);\n    }\n\n    for (var i = 0; i < js_urls.length; i++) {\n      var url = js_urls[i];\n      var element = document.createElement('script');\n      element.onload = on_load;\n      element.onerror = on_error;\n      element.async = false;\n      element.src = url;\n      console.debug(\"Bokeh: injecting script tag for BokehJS library: \", url);\n      document.head.appendChild(element);\n    }\n  };var element = document.getElementById(\"1001\");\n  if (element == null) {\n    console.error(\"Bokeh: ERROR: autoload.js configured with elementid '1001' but no matching script tag was found. \")\n    return false;\n  }\n\n  function inject_raw_css(css) {\n    const element = document.createElement(\"style\");\n    element.appendChild(document.createTextNode(css));\n    document.body.appendChild(element);\n  }\n\n  var js_urls = [\"https://cdn.pydata.org/bokeh/release/bokeh-1.3.4.min.js\", \"https://cdn.pydata.org/bokeh/release/bokeh-widgets-1.3.4.min.js\", \"https://cdn.pydata.org/bokeh/release/bokeh-tables-1.3.4.min.js\", \"https://cdn.pydata.org/bokeh/release/bokeh-gl-1.3.4.min.js\"];\n  var css_urls = [];\n\n  var inline_js = [\n    function(Bokeh) {\n      Bokeh.set_log_level(\"info\");\n    },\n    \n    function(Bokeh) {\n      \n    },\n    function(Bokeh) {} // ensure no trailing comma for IE\n  ];\n\n  function run_inline_js() {\n    \n    if ((root.Bokeh !== undefined) || (force === true)) {\n      for (var i = 0; i < inline_js.length; i++) {\n        inline_js[i].call(root, root.Bokeh);\n      }if (force === true) {\n        display_loaded();\n      }} else if (Date.now() < root._bokeh_timeout) {\n      setTimeout(run_inline_js, 100);\n    } else if (!root._bokeh_failed_load) {\n      console.log(\"Bokeh: BokehJS failed to load within specified timeout.\");\n      root._bokeh_failed_load = true;\n    } else if (force !== true) {\n      var cell = $(document.getElementById(\"1001\")).parents('.cell').data().cell;\n      cell.output_area.append_execute_result(NB_LOAD_WARNING)\n    }\n\n  }\n\n  if (root._bokeh_is_loading === 0) {\n    console.debug(\"Bokeh: BokehJS loaded, going straight to plotting\");\n    run_inline_js();\n  } else {\n    load_libs(css_urls, js_urls, function() {\n      console.debug(\"Bokeh: BokehJS plotting callback run at\", now());\n      run_inline_js();\n    });\n  }\n}(window));"
     },
     "metadata": {},
     "output_type": "display_data"
    }
   ],
   "source": [
    "import json\n",
    "import matplotlib.pyplot as plt\n",
    "import numpy as np\n",
    "from operator import itemgetter\n",
    "from pyspark.mllib.linalg.distributed import CoordinateMatrix\n",
    "import pandas as pd\n",
    "from numpy import linalg as LA\n",
    "import pickle\n",
    "from bokeh.io import show, output_notebook\n",
    "from bokeh.plotting import figure, ColumnDataSource\n",
    "from bokeh.models import HoverTool, ResetTool, PanTool, WheelZoomTool, SaveTool\n",
    "output_notebook()\n",
    "from sklearn.linear_model import LinearRegression\n",
    "\n",
    "%matplotlib inline\n",
    "plt.style.use(\"ggplot\")"
   ]
  },
  {
   "cell_type": "markdown",
   "metadata": {},
   "source": [
    "For some movies we have that it has a vector of scores for each tag in a set of tags. This results in a high-dimensional interpretation of each movie (**\"tag space\"**).\n",
    "\n",
    "* **GOAL:** we want to represent this movies in a lower dimensional space using PCA.\n",
    "\n",
    "Bellow one can see how the data looks like:"
   ]
  },
  {
   "cell_type": "code",
   "execution_count": 2,
   "metadata": {},
   "outputs": [
    {
     "name": "stdout",
     "output_type": "stream",
     "text": [
      "{\"tagId\": 1124, \"tag\": \"writing\"}\r\n",
      "{\"tagId\": 1125, \"tag\": \"wuxia\"}\r\n",
      "{\"tagId\": 1126, \"tag\": \"wwii\"}\r\n",
      "{\"tagId\": 1127, \"tag\": \"zombie\"}\r\n",
      "{\"tagId\": 1128, \"tag\": \"zombies\"}\r\n"
     ]
    }
   ],
   "source": [
    "!hdfs dfs -cat /ix/ml-20m/genome-tags.txt | tail -n 5"
   ]
  },
  {
   "cell_type": "code",
   "execution_count": 3,
   "metadata": {
    "scrolled": true
   },
   "outputs": [
    {
     "name": "stdout",
     "output_type": "stream",
     "text": [
      "{\"relevance\": 0.58775, \"tagId\": 1124, \"movieId\": 131170}\r\n",
      "{\"relevance\": 0.010749999999999982, \"tagId\": 1125, \"movieId\": 131170}\r\n",
      "{\"relevance\": 0.015749999999999986, \"tagId\": 1126, \"movieId\": 131170}\r\n",
      "{\"relevance\": 0.11449999999999999, \"tagId\": 1127, \"movieId\": 131170}\r\n",
      "{\"relevance\": 0.02174999999999999, \"tagId\": 1128, \"movieId\": 131170}\r\n"
     ]
    }
   ],
   "source": [
    "!hdfs dfs -cat /ix/ml-20m/genome-scores.txt | tail -n 5"
   ]
  },
  {
   "cell_type": "code",
   "execution_count": 4,
   "metadata": {},
   "outputs": [],
   "source": [
    "tags = sc.textFile(\"/ix/ml-20m/genome-tags.txt\").map(json.loads)\n",
    "tag_scores = sc.textFile(\"/ix/ml-20m/genome-scores.txt\").map(json.loads)\n",
    "\n",
    "IDT = dict(tags.map(itemgetter(\"tagId\", \"tag\")).collect())"
   ]
  },
  {
   "cell_type": "markdown",
   "metadata": {},
   "source": [
    "## Exercise 3.1\n",
    "\n",
    "Construct an $M*N$ data matrix, where $M$ is the number of tags and $N$ the number of movies.\n",
    "Do not include movies which do not have any tag.\n",
    "\n",
    "* Plot the variance of each dimension (represented by tags) across all movies.\n",
    "* Plot the eigenvalues of the $M*M$ covariance matrix.\n",
    "* Explain the implications for dimensionality reduction.\n",
    "\n",
    "For example, how many principal directions do you need to capture 2/3 of the variability in\n",
    "the data?\n",
    "\n",
    "-------------------------------------------------------------------------------------------------"
   ]
  },
  {
   "cell_type": "markdown",
   "metadata": {},
   "source": [
    "How can we find the matrix $M*N$? In one file we do have a vector $M*N$ with all the scores for each movie. We should be able to transform that structure into the matrix."
   ]
  },
  {
   "cell_type": "code",
   "execution_count": 5,
   "metadata": {},
   "outputs": [],
   "source": [
    "# As found in the notebook \"Intro_spark_EDA\"\n",
    "M = 1128 # tags\n",
    "N = 10381 # movies with tags"
   ]
  },
  {
   "cell_type": "code",
   "execution_count": 6,
   "metadata": {},
   "outputs": [],
   "source": [
    "matrix = tag_scores.map(itemgetter(\"tagId\", \"movieId\", \"relevance\"))\n",
    "matrix = np.asarray(matrix.collect())"
   ]
  },
  {
   "cell_type": "code",
   "execution_count": 7,
   "metadata": {},
   "outputs": [],
   "source": [
    "matrix = np.asarray(matrix)"
   ]
  },
  {
   "cell_type": "code",
   "execution_count": 8,
   "metadata": {},
   "outputs": [
    {
     "data": {
      "text/plain": [
       "array([[ 2.     ,  1.     ,  0.025  ],\n",
       "       [ 3.     ,  1.     ,  0.05775],\n",
       "       [ 4.     ,  1.     ,  0.09675],\n",
       "       [ 5.     ,  1.     ,  0.14675],\n",
       "       [ 6.     ,  1.     ,  0.217  ],\n",
       "       [ 7.     ,  1.     ,  0.067  ],\n",
       "       [ 8.     ,  1.     ,  0.26275],\n",
       "       [ 9.     ,  1.     ,  0.262  ],\n",
       "       [10.     ,  1.     ,  0.032  ]])"
      ]
     },
     "execution_count": 8,
     "metadata": {},
     "output_type": "execute_result"
    }
   ],
   "source": [
    "matrix[1:10]"
   ]
  },
  {
   "cell_type": "code",
   "execution_count": 9,
   "metadata": {},
   "outputs": [],
   "source": [
    "n = len(matrix)\n",
    "A = np.zeros((1129,10381)) # 1128 tags, 10381 movies\n",
    "m = -1\n",
    "moviesID = np.zeros(10381)\n",
    "\n",
    "for i in range(0,n):\n",
    "    if i % 1128 == 0:\n",
    "        m = m + 1\n",
    "        moviesID[m] = matrix[i][1]\n",
    "    \n",
    "    A[int(matrix[i][0])][m] = matrix[i][2]"
   ]
  },
  {
   "cell_type": "markdown",
   "metadata": {},
   "source": [
    "Now the matrix $A$ has the values we wanted to. **Keep in mind that A rows start at 1 and columns at 0.**"
   ]
  },
  {
   "cell_type": "code",
   "execution_count": 10,
   "metadata": {},
   "outputs": [
    {
     "data": {
      "text/plain": [
       "array([0., 0., 0., ..., 0., 0., 0.])"
      ]
     },
     "execution_count": 10,
     "metadata": {},
     "output_type": "execute_result"
    }
   ],
   "source": [
    "A[0]"
   ]
  },
  {
   "cell_type": "markdown",
   "metadata": {},
   "source": [
    "### a) PLOT VARIANCE OF EACH DIMENSION (TAG) ACROSS ALL MOVIES:\n",
    "\n",
    "$X = [x_1, ..., x_N]$, is our dataset. Each $X_i$ is a movie of dimension $M$, with all the scores for the different tags.\n",
    "\n",
    "We want to know the covariance matrix of a given movie $x$. We know that: \n",
    "$$\\mathrm{Var}(x) = \\mathbb{E}[(x-\\mathbb{E}[x])^2]$$\n",
    "Then, we will center our matrix (all the data points) and then estimate the covariance matrix:\n",
    "1. $X = X - \\overline{X}$\n",
    "2. $\\mathrm{Var}(x) \\approx \\frac{1}{N}X X^T$"
   ]
  },
  {
   "cell_type": "code",
   "execution_count": 11,
   "metadata": {},
   "outputs": [
    {
     "data": {
      "text/plain": [
       "0.08229289099080686"
      ]
     },
     "execution_count": 11,
     "metadata": {},
     "output_type": "execute_result"
    }
   ],
   "source": [
    "X = A\n",
    "X = X - X.mean(1).reshape([1129,1])\n",
    "CX = (1/N)*np.matmul(X,X.transpose())\n",
    "CX.max()"
   ]
  },
  {
   "cell_type": "markdown",
   "metadata": {},
   "source": [
    "Now lets plot the diagonal so that we can see the variance of each dimension:"
   ]
  },
  {
   "cell_type": "code",
   "execution_count": 12,
   "metadata": {},
   "outputs": [],
   "source": [
    "var = CX.diagonal()\n",
    "var = var[1:] # first dimension is not a tag"
   ]
  },
  {
   "cell_type": "code",
   "execution_count": 13,
   "metadata": {},
   "outputs": [
    {
     "data": {
      "text/plain": [
       "[<matplotlib.lines.Line2D at 0x7f4788b63dd0>]"
      ]
     },
     "execution_count": 13,
     "metadata": {},
     "output_type": "execute_result"
    },
    {
     "data": {
      "image/png": "[encoded data removed]",
      "text/plain": [
       "<Figure size 432x288 with 1 Axes>"
      ]
     },
     "metadata": {
      "needs_background": "light"
     },
     "output_type": "display_data"
    }
   ],
   "source": [
    "plt.plot(var)"
   ]
  },
  {
   "cell_type": "markdown",
   "metadata": {},
   "source": [
    "### b) PLOT THE EIGENVALUES OF THE COVARIANCE MATRIX:"
   ]
  },
  {
   "cell_type": "code",
   "execution_count": 14,
   "metadata": {},
   "outputs": [
    {
     "name": "stdout",
     "output_type": "stream",
     "text": [
      "The 50 first eigenvalues in order are: [2.75311225 1.22135338 0.99595557 0.66211171 0.58567336 0.47428225\n",
      " 0.46138018 0.39717058 0.34148576 0.28886558 0.26078631 0.23377844\n",
      " 0.22231846 0.20775102 0.19270798 0.17735516 0.16994217 0.15259553\n",
      " 0.13731592 0.1314468  0.12068555 0.11253595 0.10944098 0.10015725\n",
      " 0.09424449 0.08813647 0.08342501 0.0809259  0.07804268 0.07487721\n",
      " 0.07136622 0.06806269 0.06664784 0.06213607 0.06124358 0.05824564\n",
      " 0.05701822 0.05567969 0.05364679 0.05295612 0.0502332  0.04963194\n",
      " 0.04797178 0.04700254 0.04454992 0.04390238 0.04314391 0.04129978\n",
      " 0.04085629 0.0394823 ]\n"
     ]
    },
    {
     "data": {
      "image/png": "[encoded data removed]",
      "text/plain": [
       "<Figure size 432x288 with 1 Axes>"
      ]
     },
     "metadata": {
      "needs_background": "light"
     },
     "output_type": "display_data"
    }
   ],
   "source": [
    "eva, eve = LA.eig(CX[1:,1:])\n",
    "plt.plot(eva)\n",
    "print(\"The 50 first eigenvalues in order are:\", eva[0:50])"
   ]
  },
  {
   "cell_type": "markdown",
   "metadata": {},
   "source": [
    "### c) THE IMPLICATIONS FOR DIMENSIONALITY REDUCTION:"
   ]
  },
  {
   "cell_type": "markdown",
   "metadata": {},
   "source": [
    "The implications are that the variance is mostly accumulated in the directions of the first eigenvalues, which will allow us to draw a low dimensional space in which most of the variance will still be present. Basically we have that:\n",
    "$$X X^T = V D V^T$$\n",
    "$$X X^T = D \\sum_{i = 1}^{M}v_i v_i^T$$\n",
    "Where $V = [v_1,...,v_M]$ (ordered higher to smaller) are the eigenvectors and $D$ the eigenvalues. Keeping the highest eigenvalues with their eigenvectors will be able to reconstruct most of the covariance matrix.\n",
    "\n",
    "Now let us see how many direaction do we need in order to capture 2/3 of the total variance."
   ]
  },
  {
   "cell_type": "code",
   "execution_count": 15,
   "metadata": {},
   "outputs": [
    {
     "name": "stdout",
     "output_type": "stream",
     "text": [
      "The tota variance is 17.100245817365952 and the first 36 directions (1128 in total) account for 66.65145090563256 percent of the total variance.\n"
     ]
    }
   ],
   "source": [
    "print(\"The tota variance is\", sum(eva), \"and the first 36 directions (1128 in total) account for\", 100 * sum(eva[0:36])/sum(eva), \"percent of the total variance.\")"
   ]
  },
  {
   "cell_type": "markdown",
   "metadata": {},
   "source": [
    "## Exercise 3.2: Concept Space\n",
    "\n",
    "For the five first principal directions, find the 10 tags that have the highest and lowest\n",
    "coordinates in that direction.\n",
    "\n",
    "* What concepts would you use to describe these dimensions?\n",
    "\n",
    "Create a Python dict which maps every tag (name) to its coordinates in the 5 first principal\n",
    "directions and save it to disk. This will be used later for the clustering exercise.\n",
    "\n",
    "**NOTE:** We are going to find the 10 highest (absolute value) coordinates of each component. This means that within the direction they are the most meaningful tags."
   ]
  },
  {
   "cell_type": "code",
   "execution_count": 16,
   "metadata": {},
   "outputs": [
    {
     "name": "stdout",
     "output_type": "stream",
     "text": [
      "['iran', 'irish', 'interesting', 'iraq', 'remake']\n",
      "['romantic', 'reality tv', 'irish accent', 'investigation', 'iraq war']\n"
     ]
    }
   ],
   "source": [
    "# IMPORTANT TO REMEMBER: pc1 indexes go from 0 to 1127, but real tags are 1 to 1128.\n",
    "\n",
    "pc1 = eve[0]\n",
    "pc2 = eve[1]\n",
    "pc3 = eve[2]\n",
    "pc4 = eve[3]\n",
    "pc5 = eve[4]\n",
    "\n",
    "aux1 = pc1.argsort()[-5:][::-1]\n",
    "#print(aux1)\n",
    "tags1 = [IDT[key+1] for key in aux1]\n",
    "print(tags1)\n",
    "#print(pc1[aux1])\n",
    "\n",
    "aux2 = pc1.argsort()[:5][::-1]\n",
    "tags2 = [IDT[key+1] for key in aux2]\n",
    "print(tags2)\n",
    "#print(pc1[aux2])"
   ]
  },
  {
   "cell_type": "code",
   "execution_count": 17,
   "metadata": {},
   "outputs": [
    {
     "name": "stdout",
     "output_type": "stream",
     "text": [
      "['reality tv', 'pointless', 'photographer', 'runaway', 'reflective']\n",
      "['oscar (best supporting actor)', 'neil gaiman', 'remake', 'remade', 'poetry']\n"
     ]
    }
   ],
   "source": [
    "aux1 = pc2.argsort()[-5:][::-1]\n",
    "tags1 = [IDT[key+1] for key in aux1]\n",
    "print(tags1)\n",
    "#print(pc1[aux1])\n",
    "\n",
    "aux2 = pc2.argsort()[:5][::-1]\n",
    "tags2 = [IDT[key+1] for key in aux2]\n",
    "print(tags2)\n",
    "#print(pc1[aux2])"
   ]
  },
  {
   "cell_type": "code",
   "execution_count": 18,
   "metadata": {},
   "outputs": [
    {
     "name": "stdout",
     "output_type": "stream",
     "text": [
      "['emma watson', 'love story', 'dolphins', 'farce', 'exciting']\n",
      "['holocaust', 'beautifully filmed', 'disappointing', 'classic car', 'drug addiction']\n"
     ]
    }
   ],
   "source": [
    "aux1 = pc3.argsort()[-5:][::-1]\n",
    "tags1 = [IDT[key+1] for key in aux1]\n",
    "print(tags1)\n",
    "#print(pc1[aux1])\n",
    "\n",
    "aux2 = pc3.argsort()[:5][::-1]\n",
    "tags2 = [IDT[key+1] for key in aux2]\n",
    "print(tags2)\n",
    "#print(pc1[aux2])"
   ]
  },
  {
   "cell_type": "code",
   "execution_count": 19,
   "metadata": {},
   "outputs": [
    {
     "name": "stdout",
     "output_type": "stream",
     "text": [
      "['queer', 'silly fun', 'surrealism', 'steampunk', 'politics']\n",
      "['noir thriller', 'paris', 'robert downey jr', 'psychedelic', 'sex']\n"
     ]
    }
   ],
   "source": [
    "aux1 = pc4.argsort()[-5:][::-1]\n",
    "tags1 = [IDT[key+1] for key in aux1]\n",
    "print(tags1)\n",
    "#print(pc1[aux1])\n",
    "\n",
    "aux2 = pc4.argsort()[:5][::-1]\n",
    "tags2 = [IDT[key+1] for key in aux2]\n",
    "print(tags2)\n",
    "#print(pc1[aux2])"
   ]
  },
  {
   "cell_type": "code",
   "execution_count": 20,
   "metadata": {},
   "outputs": [
    {
     "name": "stdout",
     "output_type": "stream",
     "text": [
      "['camp', 'based on comic', 'best war films', 'beer', 'berlin']\n",
      "['artist', 'computers', 'campy', 'baseball', 'book']\n"
     ]
    }
   ],
   "source": [
    "aux1 = pc5.argsort()[-5:][::-1]\n",
    "tags1 = [IDT[key+1] for key in aux1]\n",
    "print(tags1)\n",
    "#print(pc1[aux1])\n",
    "\n",
    "aux2 = pc5.argsort()[:5][::-1]\n",
    "tags2 = [IDT[key+1] for key in aux2]\n",
    "print(tags2)\n",
    "#print(pc1[aux2])"
   ]
  },
  {
   "cell_type": "markdown",
   "metadata": {},
   "source": [
    "#### Let us create the dictionary:\n",
    "\n",
    "The dictionary IDT ranges from key 1 to 1128. We will create a dictionary in which every tagID **i** will reference the correspondent coordinate of each component:\n",
    "``dict[i] = [pc1[i], ..., pc5[i]]``"
   ]
  },
  {
   "cell_type": "code",
   "execution_count": 21,
   "metadata": {},
   "outputs": [],
   "source": [
    "d = {}\n",
    "for i in range(1,1129):\n",
    "    l = [pc1[i-1],pc2[i-1],pc3[i-1],pc4[i-1],pc5[i-1]] # The index in pc1 is 0 to 1127 (real tag 1 to 1128)\n",
    "    d.update({i : l})"
   ]
  },
  {
   "cell_type": "code",
   "execution_count": 22,
   "metadata": {},
   "outputs": [
    {
     "data": {
      "text/plain": [
       "[0.21590706096480425,\n",
       " 0.054900558584922425,\n",
       " -0.000517771758664586,\n",
       " -0.013724703477853784,\n",
       " 0.003454430925274809]"
      ]
     },
     "execution_count": 22,
     "metadata": {},
     "output_type": "execute_result"
    }
   ],
   "source": [
    "d[559] # as expected :)"
   ]
  },
  {
   "cell_type": "markdown",
   "metadata": {},
   "source": [
    "Now to save it:"
   ]
  },
  {
   "cell_type": "code",
   "execution_count": 23,
   "metadata": {},
   "outputs": [],
   "source": [
    "f = open(\"tag_to_5pc\",\"wb\")\n",
    "pickle.dump(d,f)\n",
    "f.close()"
   ]
  },
  {
   "cell_type": "markdown",
   "metadata": {},
   "source": [
    "## Exercise 3.3: Movie Visualization\n",
    "\n",
    "Project the movies of selected-movies.pickle on the first two principal directions.\n",
    "\n",
    "* Create an interactive plot that displays the 2D-projection of the movies using bokeh and its hover tool. Color the nodes by their Rotten Tomatoes score.\n",
    "* Based on your knowledge of these movies and information that you can get from the web, explain the coordinates of a few of the movies.\n",
    "* How do the PCA directions correlate with the Rotten Tomatoes score?\n",
    "\n",
    "Try projecting the movies on subsequent principal directions. Does it make sense based on\n",
    "your knowledge of these movies? (Not needed for the hand-in)."
   ]
  },
  {
   "cell_type": "code",
   "execution_count": 24,
   "metadata": {},
   "outputs": [],
   "source": [
    "with open(\"selected-movies.pickle\", \"rb\") as f:\n",
    "    movies = pickle.load(f, encoding=\"utf-8\")"
   ]
  },
  {
   "cell_type": "markdown",
   "metadata": {},
   "source": [
    "This is a set of 37 movies, each of them is (movieID, Title, RTScore)."
   ]
  },
  {
   "cell_type": "markdown",
   "metadata": {},
   "source": [
    "#### Projection:\n",
    "\n",
    "How do we project the images in the first 2 principal components? Given that:\n",
    "$$V^T x_e = x_v$$\n",
    "Meaning the image in the canonical base ($x_e$) or in the eigenvectors space ($x_v$). Since in the $V$ space the vectors are orthogonal (symetric matrix) the projection on the first 2 vectors of $V$ ($v_1,v_2$) will be just keeping the coordinates:\n",
    "$$x_v = a_1 v_1 + ... + a_M$$\n",
    "$$x_{\\text{projected}} = a_1 v_1 + a_2 v_2$$"
   ]
  },
  {
   "cell_type": "code",
   "execution_count": 26,
   "metadata": {},
   "outputs": [
    {
     "data": {
      "text/plain": [
       "array([1.00000e+00, 2.00000e+00, 3.00000e+00, ..., 1.31013e+05,\n",
       "       1.31168e+05, 1.31170e+05])"
      ]
     },
     "execution_count": 26,
     "metadata": {},
     "output_type": "execute_result"
    }
   ],
   "source": [
    "moviesID"
   ]
  },
  {
   "cell_type": "code",
   "execution_count": 38,
   "metadata": {},
   "outputs": [
    {
     "data": {
      "text/plain": [
       "array([[0.     , 0.     , 0.     , ..., 0.     , 0.     , 0.     ],\n",
       "       [0.025  , 0.03975, 0.0435 , ..., 0.042  , 0.05975, 0.05325],\n",
       "       [0.025  , 0.04375, 0.05475, ..., 0.03175, 0.10375, 0.08625],\n",
       "       ...,\n",
       "       [0.03625, 0.01475, 0.0195 , ..., 0.0095 , 0.51925, 0.01575],\n",
       "       [0.07775, 0.09025, 0.097  , ..., 0.0755 , 0.067  , 0.1145 ],\n",
       "       [0.023  , 0.01875, 0.0185 , ..., 0.01625, 0.01725, 0.02175]])"
      ]
     },
     "execution_count": 38,
     "metadata": {},
     "output_type": "execute_result"
    }
   ],
   "source": [
    "A"
   ]
  },
  {
   "cell_type": "code",
   "execution_count": 48,
   "metadata": {},
   "outputs": [],
   "source": [
    "aux_id = 1\n",
    "aux = np.where(moviesID == aux_id) # this tells you the position\n",
    "score = A[1:,aux].reshape(M,1)"
   ]
  },
  {
   "cell_type": "code",
   "execution_count": 42,
   "metadata": {},
   "outputs": [
    {
     "data": {
      "text/plain": [
       "(780, 'Independence Day (a.k.a. ID4) (1996)', 0.6)"
      ]
     },
     "execution_count": 42,
     "metadata": {},
     "output_type": "execute_result"
    }
   ],
   "source": [
    "movies[0]"
   ]
  },
  {
   "cell_type": "markdown",
   "metadata": {},
   "source": [
    "Now we want to have ($x_1$, $x_2$, movie name, score)."
   ]
  },
  {
   "cell_type": "code",
   "execution_count": 56,
   "metadata": {},
   "outputs": [],
   "source": [
    "l = []\n",
    "for i, e in enumerate(movies):\n",
    "    # First of all the vector:\n",
    "    aux_id = e[0]\n",
    "    aux = np.where(moviesID == aux_id)\n",
    "    x_e = A[1:,aux].reshape(M,1) # This is the ector\n",
    "    \n",
    "    # Projection of score to eigenvectors:\n",
    "    x_v = np.dot(np.transpose(eve),x_e) # first 2 components coordinates are projection :)\n",
    "    \n",
    "    l.append([float(x_v[0]),float(x_v[1]),e[1],e[2]]) # (x_1,x_2,title,score)"
   ]
  },
  {
   "cell_type": "code",
   "execution_count": 73,
   "metadata": {
    "scrolled": true
   },
   "outputs": [
    {
     "data": {
      "text/html": [
       "\n",
       "\n",
       "\n",
       "\n",
       "\n",
       "\n",
       "  <div class=\"bk-root\" id=\"3ebfc708-df51-4955-805e-3e0ac755cc59\" data-root-id=\"3456\"></div>\n"
      ]
     },
     "metadata": {},
     "output_type": "display_data"
    },
    {
     "data": {
      "application/javascript": [
       "(function(root) {\n",
       "  function embed_document(root) {\n",
       "    \n",
       "  var docs_json = {\"1f94f913-ac9b-466a-93c1-36d35bffdfa5\":{\"roots\":{\"references\":[{\"attributes\":{\"below\":[{\"id\":\"3467\",\"type\":\"LinearAxis\"}],\"center\":[{\"id\":\"3471\",\"type\":\"Grid\"},{\"id\":\"3476\",\"type\":\"Grid\"}],\"left\":[{\"id\":\"3472\",\"type\":\"LinearAxis\"}],\"plot_height\":360,\"plot_width\":960,\"renderers\":[{\"id\":\"3486\",\"type\":\"GlyphRenderer\"}],\"title\":{\"id\":\"3457\",\"type\":\"Title\"},\"toolbar\":{\"id\":\"3477\",\"type\":\"Toolbar\"},\"x_range\":{\"id\":\"3459\",\"type\":\"DataRange1d\"},\"x_scale\":{\"id\":\"3463\",\"type\":\"LinearScale\"},\"y_range\":{\"id\":\"3461\",\"type\":\"DataRange1d\"},\"y_scale\":{\"id\":\"3465\",\"type\":\"LinearScale\"}},\"id\":\"3456\",\"subtype\":\"Figure\",\"type\":\"Plot\"},{\"attributes\":{},\"id\":\"3465\",\"type\":\"LinearScale\"},{\"attributes\":{\"formatter\":{\"id\":\"3610\",\"type\":\"BasicTickFormatter\"},\"ticker\":{\"id\":\"3473\",\"type\":\"BasicTicker\"}},\"id\":\"3472\",\"type\":\"LinearAxis\"},{\"attributes\":{},\"id\":\"3473\",\"type\":\"BasicTicker\"},{\"attributes\":{\"callback\":null},\"id\":\"3459\",\"type\":\"DataRange1d\"},{\"attributes\":{\"data_source\":{\"id\":\"3450\",\"type\":\"ColumnDataSource\"},\"glyph\":{\"id\":\"3484\",\"type\":\"Circle\"},\"hover_glyph\":null,\"muted_glyph\":null,\"nonselection_glyph\":{\"id\":\"3485\",\"type\":\"Circle\"},\"selection_glyph\":null,\"view\":{\"id\":\"3487\",\"type\":\"CDSView\"}},\"id\":\"3486\",\"type\":\"GlyphRenderer\"},{\"attributes\":{\"callback\":null,\"tooltips\":[[\"Title\",\"@title\"],[\"Score\",\"@score\"]]},\"id\":\"3451\",\"type\":\"HoverTool\"},{\"attributes\":{},\"id\":\"3610\",\"type\":\"BasicTickFormatter\"},{\"attributes\":{},\"id\":\"3453\",\"type\":\"PanTool\"},{\"attributes\":{},\"id\":\"3612\",\"type\":\"UnionRenderers\"},{\"attributes\":{},\"id\":\"3455\",\"type\":\"SaveTool\"},{\"attributes\":{\"text\":\"Mouse over the dots\"},\"id\":\"3457\",\"type\":\"Title\"},{\"attributes\":{\"ticker\":{\"id\":\"3468\",\"type\":\"BasicTicker\"}},\"id\":\"3471\",\"type\":\"Grid\"},{\"attributes\":{},\"id\":\"3463\",\"type\":\"LinearScale\"},{\"attributes\":{\"dimension\":1,\"ticker\":{\"id\":\"3473\",\"type\":\"BasicTicker\"}},\"id\":\"3476\",\"type\":\"Grid\"},{\"attributes\":{\"active_drag\":\"auto\",\"active_inspect\":\"auto\",\"active_multi\":null,\"active_scroll\":\"auto\",\"active_tap\":\"auto\",\"tools\":[{\"id\":\"3451\",\"type\":\"HoverTool\"},{\"id\":\"3452\",\"type\":\"ResetTool\"},{\"id\":\"3453\",\"type\":\"PanTool\"},{\"id\":\"3454\",\"type\":\"WheelZoomTool\"},{\"id\":\"3455\",\"type\":\"SaveTool\"}]},\"id\":\"3477\",\"type\":\"Toolbar\"},{\"attributes\":{\"callback\":null},\"id\":\"3461\",\"type\":\"DataRange1d\"},{\"attributes\":{},\"id\":\"3454\",\"type\":\"WheelZoomTool\"},{\"attributes\":{\"fill_alpha\":{\"value\":0.1},\"fill_color\":{\"value\":\"#1f77b4\"},\"line_alpha\":{\"value\":0.1},\"line_color\":{\"value\":\"#1f77b4\"},\"size\":{\"units\":\"screen\",\"value\":20},\"x\":{\"field\":\"x\"},\"y\":{\"field\":\"y\"}},\"id\":\"3485\",\"type\":\"Circle\"},{\"attributes\":{},\"id\":\"3468\",\"type\":\"BasicTicker\"},{\"attributes\":{\"fill_alpha\":{\"value\":0.5},\"fill_color\":{\"field\":\"color\"},\"line_alpha\":{\"value\":0.5},\"line_color\":{\"field\":\"color\"},\"size\":{\"units\":\"screen\",\"value\":20},\"x\":{\"field\":\"x\"},\"y\":{\"field\":\"y\"}},\"id\":\"3484\",\"type\":\"Circle\"},{\"attributes\":{},\"id\":\"3452\",\"type\":\"ResetTool\"},{\"attributes\":{},\"id\":\"3608\",\"type\":\"BasicTickFormatter\"},{\"attributes\":{\"formatter\":{\"id\":\"3608\",\"type\":\"BasicTickFormatter\"},\"ticker\":{\"id\":\"3468\",\"type\":\"BasicTicker\"}},\"id\":\"3467\",\"type\":\"LinearAxis\"},{\"attributes\":{\"callback\":null,\"data\":{\"color\":[\"#22a884\",\"#b5de2b\",\"#a8db34\",\"#c2df23\",\"#8ed645\",\"#dfe318\",\"#a8db34\",\"#463480\",\"#472e7c\",\"#9bd93c\",\"#6ece58\",\"#9bd93c\",\"#cae11f\",\"#d2e21b\",\"#d2e21b\",\"#23898e\",\"#e5e419\",\"#75d054\",\"#443a83\",\"#b0dd2f\",\"#bddf26\",\"#306a8e\",\"#81d34d\",\"#fde725\",\"#c2df23\",\"#4ec36b\",\"#dfe318\",\"#7ad151\",\"#3bbb75\",\"#2cb17e\",\"#f1e51d\",\"#20928c\",\"#dfe318\",\"#37b878\",\"#8ed645\",\"#b0dd2f\",\"#22a884\"],\"score\":[0.6,0.89,0.87,0.91,0.83,0.95,0.87,0.15,0.13,0.85,0.78,0.85,0.92,0.93,0.93,0.47,0.96,0.79,0.17,0.88,0.9,0.34,0.81,1.0,0.91,0.72,0.95,0.8,0.68,0.64,0.98,0.51,0.95,0.67,0.83,0.88,0.6],\"title\":[\"Independence Day (a.k.a. ID4) (1996)\",\"Spider-Man (2002)\",\"Matrix, The (1999)\",\"Shawshank Redemption, The (1994)\",\"American History X (1998)\",\"Wild Strawberries (Smultronst\\u00e4llet) (1957)\",\"Control (2007)\",\"Miss Congeniality 2: Armed and Fabulous (2005)\",\"Just My Luck (2006)\",\"Santa Sangre (1989)\",\"Videodrome (1983)\",\"Billy Elliot (2000)\",\"Pride (2014)\",\"Jurassic Park (1993)\",\"Star Wars: Episode IV - A New Hope (1977)\",\"Princess Diaries, The (2001)\",\"Schindler's List (1993)\",\"Fight Club (1999)\",\"New York Ripper, The (Squartatore di New York, Lo) (1982)\",\"American Beauty (1999)\",\"City of God (Cidade de Deus) (2002)\",\"Battleship (2012)\",\"Take Care of My Cat (Goyangileul butaghae) (2001)\",\"Terminator, The (1984)\",\"Edge of Tomorrow (2014)\",\"Forrest Gump (1994)\",\"King's Speech, The (2010)\",\"Life Is Beautiful (La Vita \\u00e8 bella) (1997)\",\"Stage Fright (Deliria) (1987)\",\"Ichi the Killer (Koroshiya 1) (2001)\",\"Brazil (1985)\",\"Fountain, The (2006)\",\"Accused, The (1988)\",\"Time to Kill, A (1996)\",\"Ghost Writer, The (2010)\",\"Superbad (2007)\",\"American Pie (1999)\"],\"x\":[1.956319246470656,2.4234730119397296,6.166922994976296,8.263266304963048,8.40728222825496,7.467585235072492,7.309527270150406,0.27638073270278957,0.09133591026512572,5.478011932785144,4.335738415983893,5.112584895129656,5.350205221235813,3.467061184601557,5.283249654357825,0.7511985315999707,8.012862850827634,8.448732889671703,2.6281793776486384,8.594701228394442,8.862855699951096,0.0789501480573793,2.558724956197571,4.887597829601464,4.35628783180495,6.08040288893418,6.351129429131259,6.6083529028357635,4.417500015444917,4.314339943618698,6.342243226893643,5.783400284483887,5.784931428017211,3.7555094955836044,5.4392321326182245,3.6911395441109183,2.2125037350328114],\"y\":[-7.004651322298653,-6.568361706153163,-8.288756869341013,-5.846979358682068,-4.879104796308228,-1.096127281170241,-1.815051254156253,-2.2894303250116406,-1.830344865208134,-1.8601570872829658,-1.8528059086619653,-2.220114087389767,-1.846921670474055,-7.283029689024386,-7.5765829630719495,-2.3009949401115417,-4.795991450586849,-5.66129245212519,-2.9951092439009472,-3.1185938681355054,-4.322910455168625,-4.951407849275807,0.21770525613205677,-7.444349465494816,-7.0766292577588175,-5.029462539700724,-3.740124508583711,-3.5359042615520337,-2.826596727515739,-2.5413593613637624,-3.240371167874713,-2.800546758901149,-3.4826050275184897,-3.808230047148002,-3.7229820948022048,-2.7906872889413763,-3.64325930030814]},\"selected\":{\"id\":\"3613\",\"type\":\"Selection\"},\"selection_policy\":{\"id\":\"3612\",\"type\":\"UnionRenderers\"}},\"id\":\"3450\",\"type\":\"ColumnDataSource\"},{\"attributes\":{\"source\":{\"id\":\"3450\",\"type\":\"ColumnDataSource\"}},\"id\":\"3487\",\"type\":\"CDSView\"},{\"attributes\":{},\"id\":\"3613\",\"type\":\"Selection\"}],\"root_ids\":[\"3456\"]},\"title\":\"Bokeh Application\",\"version\":\"1.3.4\"}};\n",
       "  var render_items = [{\"docid\":\"1f94f913-ac9b-466a-93c1-36d35bffdfa5\",\"notebook_comms_target\":\"3614\",\"roots\":{\"3456\":\"3ebfc708-df51-4955-805e-3e0ac755cc59\"}}];\n",
       "  root.Bokeh.embed.embed_items_notebook(docs_json, render_items);\n",
       "\n",
       "  }\n",
       "  if (root.Bokeh !== undefined) {\n",
       "    embed_document(root);\n",
       "  } else {\n",
       "    var attempts = 0;\n",
       "    var timer = setInterval(function(root) {\n",
       "      if (root.Bokeh !== undefined) {\n",
       "        embed_document(root);\n",
       "        clearInterval(timer);\n",
       "      }\n",
       "      attempts++;\n",
       "      if (attempts > 100) {\n",
       "        console.log(\"Bokeh: ERROR: Unable to run BokehJS code because BokehJS library is missing\");\n",
       "        clearInterval(timer);\n",
       "      }\n",
       "    }, 10, root)\n",
       "  }\n",
       "})(window);"
      ],
      "application/vnd.bokehjs_exec.v0+json": ""
     },
     "metadata": {
      "application/vnd.bokehjs_exec.v0+json": {
       "id": "3456"
      }
     },
     "output_type": "display_data"
    },
    {
     "data": {
      "text/html": [
       "<p><code>&lt;Bokeh Notebook handle for <strong>In[18]</strong>&gt;</code></p>"
      ],
      "text/plain": [
       "<bokeh.io.notebook.CommsHandle at 0x7f47983d7b50>"
      ]
     },
     "execution_count": 73,
     "metadata": {},
     "output_type": "execute_result"
    }
   ],
   "source": [
    "# Continuous colors\n",
    "from matplotlib.colors import rgb2hex \n",
    "cmap = plt.get_cmap('viridis')\n",
    "def val2rgb(val):\n",
    "    return rgb2hex(cmap(val)[:3])\n",
    "\n",
    "data = l\n",
    "source = ColumnDataSource(\n",
    "    data={\n",
    "        \"x\": [x[0] for x in data],\n",
    "        \"y\": [x[1] for x in data],\n",
    "        \"title\": [x[2] for x in data],\n",
    "        \"color\": [val2rgb(x[3]) for x in data],\n",
    "        \"score\": [x[3] for x in data]\n",
    "    })\n",
    "\n",
    "hover = HoverTool(\n",
    "    tooltips=[\n",
    "        (\"Title\", \"@title\"), (\"Score\", \"@score\")\n",
    "    ])\n",
    "tools = [hover, ResetTool(), PanTool(), WheelZoomTool(), SaveTool()]\n",
    "\n",
    "p = figure(plot_width=960, plot_height=360, tools=tools, title=\"Mouse over the dots\")\n",
    "p.circle(\"x\", \"y\", source=source, size=20, color=\"color\", alpha=0.5)\n",
    "show(p, notebook_handle=True)"
   ]
  },
  {
   "cell_type": "markdown",
   "metadata": {},
   "source": [
    "I would like to see the movies and why are where they are:"
   ]
  },
  {
   "cell_type": "code",
   "execution_count": 87,
   "metadata": {},
   "outputs": [
    {
     "data": {
      "text/plain": [
       "((780, 'Independence Day (a.k.a. ID4) (1996)', 0.6),\n",
       " (5349, 'Spider-Man (2002)', 0.89),\n",
       " (2571, 'Matrix, The (1999)', 0.87),\n",
       " (318, 'Shawshank Redemption, The (1994)', 0.91),\n",
       " (2329, 'American History X (1998)', 0.83),\n",
       " (5147, 'Wild Strawberries (Smultronstället) (1957)', 0.95),\n",
       " (55444, 'Control (2007)', 0.87),\n",
       " (32296, 'Miss Congeniality 2: Armed and Fabulous (2005)', 0.15),\n",
       " (43930, 'Just My Luck (2006)', 0.13),\n",
       " (4658, 'Santa Sangre (1989)', 0.85),\n",
       " (6774, 'Videodrome (1983)', 0.78),\n",
       " (3967, 'Billy Elliot (2000)', 0.85),\n",
       " (114028, 'Pride (2014)', 0.92),\n",
       " (480, 'Jurassic Park (1993)', 0.93),\n",
       " (260, 'Star Wars: Episode IV - A New Hope (1977)', 0.93),\n",
       " (4700, 'Princess Diaries, The (2001)', 0.47),\n",
       " (527, \"Schindler's List (1993)\", 0.96),\n",
       " (2959, 'Fight Club (1999)', 0.79),\n",
       " (6132, 'New York Ripper, The (Squartatore di New York, Lo) (1982)', 0.17),\n",
       " (2858, 'American Beauty (1999)', 0.88),\n",
       " (6016, 'City of God (Cidade de Deus) (2002)', 0.9),\n",
       " (94018, 'Battleship (2012)', 0.34),\n",
       " (5687, 'Take Care of My Cat (Goyangileul butaghae) (2001)', 0.81),\n",
       " (1240, 'Terminator, The (1984)', 1.0),\n",
       " (111759, 'Edge of Tomorrow (2014)', 0.91),\n",
       " (356, 'Forrest Gump (1994)', 0.72),\n",
       " (81845, \"King's Speech, The (2010)\", 0.95),\n",
       " (2324, 'Life Is Beautiful (La Vita è bella) (1997)', 0.8),\n",
       " (5163, 'Stage Fright (Deliria) (1987)', 0.68),\n",
       " (7235, 'Ichi the Killer (Koroshiya 1) (2001)', 0.64),\n",
       " (1199, 'Brazil (1985)', 0.98),\n",
       " (48043, 'Fountain, The (2006)', 0.51),\n",
       " (4465, 'Accused, The (1988)', 0.95),\n",
       " (805, 'Time to Kill, A (1996)', 0.67),\n",
       " (74545, 'Ghost Writer, The (2010)', 0.83),\n",
       " (54503, 'Superbad (2007)', 0.88),\n",
       " (2706, 'American Pie (1999)', 0.6))"
      ]
     },
     "execution_count": 87,
     "metadata": {},
     "output_type": "execute_result"
    }
   ],
   "source": [
    "movies"
   ]
  },
  {
   "cell_type": "code",
   "execution_count": 101,
   "metadata": {},
   "outputs": [
    {
     "data": {
      "text/plain": [
       "0.9922500000000001"
      ]
     },
     "execution_count": 101,
     "metadata": {},
     "output_type": "execute_result"
    }
   ],
   "source": [
    "ex = 6016 # city of god\n",
    "np.where(moviesID == 6016)\n",
    "ex = 5189\n",
    "np.max(A[:,5189])"
   ]
  },
  {
   "cell_type": "markdown",
   "metadata": {},
   "source": [
    "It looks like the higher values of the first component and lower of the second imply better results.\n",
    "\n",
    "#### Correlations:"
   ]
  },
  {
   "cell_type": "code",
   "execution_count": 86,
   "metadata": {},
   "outputs": [
    {
     "data": {
      "text/plain": [
       "[<matplotlib.lines.Line2D at 0x7f4795326c90>]"
      ]
     },
     "execution_count": 86,
     "metadata": {},
     "output_type": "execute_result"
    },
    {
     "data": {
      "image/png": "[encoded data removed]",
      "text/plain": [
       "<Figure size 432x288 with 1 Axes>"
      ]
     },
     "metadata": {},
     "output_type": "display_data"
    }
   ],
   "source": [
    "c1 = np.array([aux[0] for aux in l]).reshape(-1,1)\n",
    "sc = np.array([aux[3] for aux in l]).reshape(-1,1)\n",
    "\n",
    "linear_regressor = LinearRegression()\n",
    "linear_regressor.fit(c1, sc)  # perform linear regression\n",
    "sc_pred = linear_regressor.predict(c1)  # make predictions\n",
    "plt.scatter(c1, sc, c='blue')\n",
    "plt.plot(c1, sc_pred, color='red')"
   ]
  },
  {
   "cell_type": "code",
   "execution_count": 85,
   "metadata": {},
   "outputs": [
    {
     "data": {
      "text/plain": [
       "[<matplotlib.lines.Line2D at 0x7f47953fbf90>]"
      ]
     },
     "execution_count": 85,
     "metadata": {},
     "output_type": "execute_result"
    },
    {
     "data": {
      "image/png": "[encoded data removed]",
      "text/plain": [
       "<Figure size 432x288 with 1 Axes>"
      ]
     },
     "metadata": {},
     "output_type": "display_data"
    }
   ],
   "source": [
    "c2 = np.array([aux[1] for aux in l]).reshape(-1,1)\n",
    "sc = np.array([aux[3] for aux in l]).reshape(-1,1)\n",
    "\n",
    "linear_regressor = LinearRegression()\n",
    "linear_regressor.fit(c2, sc)  # perform linear regression\n",
    "sc_pred = linear_regressor.predict(c2)  # make predictions\n",
    "plt.scatter(c2, sc, c='blue')\n",
    "plt.plot(c2, sc_pred, color='red')"
   ]
  }
 ],
 "metadata": {
  "kernelspec": {
   "display_name": "Python 3",
   "language": "python",
   "name": "python3"
  },
  "language_info": {
   "codemirror_mode": {
    "name": "ipython",
    "version": 3
   },
   "file_extension": ".py",
   "mimetype": "text/x-python",
   "name": "python",
   "nbconvert_exporter": "python",
   "pygments_lexer": "ipython3",
   "version": "3.7.4"
  }
 },
 "nbformat": 4,
 "nbformat_minor": 2
}
